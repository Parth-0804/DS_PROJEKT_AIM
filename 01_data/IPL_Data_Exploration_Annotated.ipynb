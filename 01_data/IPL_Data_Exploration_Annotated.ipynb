{
 "cells": [
  {
   "cell_type": "markdown",
   "id": "90b85a5f",
   "metadata": {},
   "source": [
    "# IPL Dataset Exploratory Analysis\n",
    "\n",
    "This notebook explores IPL match and delivery data using pandas to answer key analytical questions about matches, players, and teams.\n"
   ]
  },
  {
   "cell_type": "markdown",
   "id": "c7b8cc8b",
   "metadata": {},
   "source": [
    "## Data Loading"
   ]
  },
  {
   "cell_type": "code",
   "execution_count": null,
   "id": "5ad8f6cf",
   "metadata": {},
   "outputs": [],
   "source": []
  },
  {
   "cell_type": "code",
   "execution_count": null,
   "id": "9f43c568",
   "metadata": {},
   "outputs": [],
   "source": [
    "import pandas as pd\n",
    "\n",
    "# Load datasets\n",
    "deliveries_df = pd.read_csv(\"deliveries.csv\")\n",
    "matches_df = pd.read_csv(\"matches.csv\")\n",
    "\n",
    "deliveries_df.head(), matches_df.head()\n"
   ]
  },
  {
   "cell_type": "markdown",
   "id": "1ed76347",
   "metadata": {},
   "source": [
    "## Questions 1–12: Basic Statistics\n",
    "\n",
    "1. Number of Matches Played  \n",
    "2. Number of Seasons Played  \n",
    "3. Number of Players  \n",
    "4. Number of Bowlers  \n",
    "5. Number of Batsmen  \n",
    "6. Number of Allrounders  \n",
    "7. Number of Unique Venues  \n",
    "8. Unique Teams  \n",
    "9. Total Number of Deliveries Bowled  \n",
    "10. Total Number of Wickets Fallen  \n",
    "11. Total Number of Runs Scored  \n",
    "12. Total Number of Boundaries Hit  \n"
   ]
  },
  {
   "cell_type": "code",
   "execution_count": null,
   "id": "19d869c2",
   "metadata": {},
   "outputs": [],
   "source": [
    "num_matches = matches_df['id'].nunique()\n",
    "num_seasons = matches_df['season'].nunique()\n",
    "num_players = pd.unique(deliveries_df[['batter', 'bowler', 'non_striker', 'player_dismissed']].values.ravel('K'))\n",
    "num_players = len([p for p in num_players if pd.notnull(p)])\n",
    "num_bowlers = deliveries_df['bowler'].nunique()\n",
    "num_batsmen = deliveries_df['batter'].nunique()\n",
    "batsmen_set = set(deliveries_df['batter'].unique())\n",
    "bowlers_set = set(deliveries_df['bowler'].unique())\n",
    "num_allrounders = len(batsmen_set.intersection(bowlers_set))\n",
    "num_venues = matches_df['venue'].nunique()\n",
    "unique_teams = pd.unique(matches_df[['team1', 'team2']].values.ravel('K'))\n",
    "unique_teams = [t for t in unique_teams if pd.notnull(t)]\n",
    "num_unique_teams = len(unique_teams)\n",
    "total_deliveries = len(deliveries_df)\n",
    "total_wickets = deliveries_df['is_wicket'].sum()\n",
    "total_runs = deliveries_df['total_runs'].sum()\n",
    "boundaries = deliveries_df[deliveries_df['batsman_runs'].isin([4, 6])].shape[0]\n",
    "\n",
    "pd.DataFrame({\n",
    "    \"Question\": [\n",
    "        \"Number of Matches Played\", \"Number of Seasons Played\", \"Number of Players\",\n",
    "        \"Number of Bowlers\", \"Number of Batsmen\", \"Number of Allrounders\",\n",
    "        \"Number of Unique Venues\", \"Number of Unique Teams\", \"Total Deliveries Bowled\",\n",
    "        \"Total Wickets Fallen\", \"Total Runs Scored\", \"Total Boundaries Hit\"\n",
    "    ],\n",
    "    \"Answer\": [\n",
    "        num_matches, num_seasons, num_players, num_bowlers, num_batsmen, num_allrounders,\n",
    "        num_venues, num_unique_teams, total_deliveries, total_wickets, total_runs, boundaries\n",
    "    ]\n",
    "})\n"
   ]
  },
  {
   "cell_type": "markdown",
   "id": "8ee251fd",
   "metadata": {},
   "source": [
    "## Questions 13–17: Top 5 Team Performances\n",
    "\n",
    "13. Top 5 Teams with Most Match Wins  \n",
    "14. Top 5 Teams Who Won Home Matches After Winning the Toss  \n",
    "15. Top 5 Teams Who Won Home Matches After Losing the Toss  \n",
    "16. Top 5 Teams Who Won Away Matches After Winning the Toss  \n",
    "17. Top 5 Teams Who Won Away Matches After Losing the Toss  \n"
   ]
  },
  {
   "cell_type": "code",
   "execution_count": null,
   "id": "24dfa445",
   "metadata": {},
   "outputs": [],
   "source": [
    "top5_match_wins = matches_df['winner'].value_counts().head(5)\n",
    "home_win_toss_win = matches_df[\n",
    "    (matches_df['toss_winner'] == matches_df['team1']) &\n",
    "    (matches_df['winner'] == matches_df['team1'])\n",
    "]['team1'].value_counts().head(5)\n",
    "home_win_toss_loss = matches_df[\n",
    "    (matches_df['toss_winner'] != matches_df['team1']) &\n",
    "    (matches_df['winner'] == matches_df['team1'])\n",
    "]['team1'].value_counts().head(5)\n",
    "away_win_toss_win = matches_df[\n",
    "    (matches_df['toss_winner'] == matches_df['team2']) &\n",
    "    (matches_df['winner'] == matches_df['team2'])\n",
    "]['team2'].value_counts().head(5)\n",
    "away_win_toss_loss = matches_df[\n",
    "    (matches_df['toss_winner'] != matches_df['team2']) &\n",
    "    (matches_df['winner'] == matches_df['team2'])\n",
    "]['team2'].value_counts().head(5)\n",
    "\n",
    "pd.DataFrame({\n",
    "    'Top 5 Teams by Most Match Wins': top5_match_wins,\n",
    "    'Home Wins after Winning Toss': home_win_toss_win,\n",
    "    'Home Wins after Losing Toss': home_win_toss_loss,\n",
    "    'Away Wins after Winning Toss': away_win_toss_win,\n",
    "    'Away Wins after Losing Toss': away_win_toss_loss\n",
    "}).reset_index().rename(columns={'index': 'Team'})\n"
   ]
  },
  {
   "cell_type": "markdown",
   "id": "5f6e1b41",
   "metadata": {},
   "source": [
    "## Questions 18–21: Season-Wise Performance\n",
    "\n",
    "18. Team Which Has Scored the Most Runs Each Season  \n",
    "19. Highest Run Scored in a Match Each Season  \n",
    "20. Highest Run Scored by a Player Each Season  \n",
    "21. Highest Number of Wickets Taken by a Bowler  \n"
   ]
  },
  {
   "cell_type": "code",
   "execution_count": null,
   "id": "9e087cc3",
   "metadata": {},
   "outputs": [],
   "source": [
    "season_runs = matches_df[['id', 'season', 'team1', 'team2']]\n",
    "deliveries_with_season = deliveries_df.merge(season_runs, how='left', left_on='match_id', right_on='id')\n",
    "\n",
    "team_season_runs = deliveries_with_season.groupby(['season', 'batting_team'])['total_runs'].sum().reset_index()\n",
    "top_team_each_season = team_season_runs.loc[team_season_runs.groupby('season')['total_runs'].idxmax()]\n",
    "\n",
    "match_total_runs = deliveries_with_season.groupby(['match_id', 'season', 'batting_team'])['total_runs'].sum().reset_index()\n",
    "top_score_each_season = match_total_runs.loc[match_total_runs.groupby('season')['total_runs'].idxmax()]\n",
    "\n",
    "player_season_runs = deliveries_with_season.groupby(['season', 'batter'])['batsman_runs'].sum().reset_index()\n",
    "top_scorer_each_season = player_season_runs.loc[player_season_runs.groupby('season')['batsman_runs'].idxmax()]\n",
    "\n",
    "wicket_kinds = ['bowled', 'caught', 'lbw', 'stumped', 'caught and bowled', 'hit wicket']\n",
    "bowler_wickets = deliveries_df[deliveries_df['dismissal_kind'].isin(wicket_kinds)]\n",
    "top_bowler = bowler_wickets['bowler'].value_counts().head(1)\n",
    "\n",
    "print(\"Top Teams Each Season (Total Runs):\")\n",
    "display(top_team_each_season)\n",
    "\n",
    "print(\"\\nHighest Match Score Each Season:\")\n",
    "display(top_score_each_season)\n",
    "\n",
    "print(\"\\nTop Player Each Season (Runs):\")\n",
    "display(top_scorer_each_season)\n",
    "\n",
    "print(\"\\nTop Wicket Taker:\")\n",
    "display(top_bowler)\n"
   ]
  }
 ],
 "metadata": {
  "kernelspec": {
   "display_name": "Python 3",
   "language": "python",
   "name": "python3"
  },
  "language_info": {
   "name": "python",
   "version": "3.9.6"
  }
 },
 "nbformat": 4,
 "nbformat_minor": 5
}
