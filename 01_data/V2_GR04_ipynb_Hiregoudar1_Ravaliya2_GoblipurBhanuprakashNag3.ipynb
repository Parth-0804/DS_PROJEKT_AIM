{
 "cells": [
  {
   "attachments": {},
   "cell_type": "markdown",
   "metadata": {},
   "source": [
    "#### Data Preparation"
   ]
  },
  {
   "cell_type": "code",
   "execution_count": 115,
   "metadata": {},
   "outputs": [],
   "source": [
    "df_matches = pd.read_csv(\"matches.csv\")\n",
    "df_deliveries = pd.read_csv(\"deliveries.csv\")\n"
   ]
  },
  {
   "cell_type": "code",
   "execution_count": 116,
   "metadata": {},
   "outputs": [
    {
     "name": "stdout",
     "output_type": "stream",
     "text": [
      "(260920, 17)\n",
      "(1095, 20)\n"
     ]
    }
   ],
   "source": [
    "print(df_deliveries.shape)\n",
    "print(df_matches.shape)\n"
   ]
  },
  {
   "cell_type": "code",
   "execution_count": 117,
   "metadata": {},
   "outputs": [],
   "source": [
    "# Date to Year for better EDA\n",
    "df_matches['year'] = pd.to_datetime(matches['date']).dt.year"
   ]
  },
  {
   "cell_type": "code",
   "execution_count": 118,
   "metadata": {},
   "outputs": [],
   "source": [
    "df_deliveries['id'] = df_deliveries['match_id']\n",
    "df_del = df_deliveries.drop(columns='match_id')"
   ]
  },
  {
   "cell_type": "code",
   "execution_count": 119,
   "metadata": {},
   "outputs": [
    {
     "data": {
      "text/plain": [
       "dtype('int64')"
      ]
     },
     "execution_count": 119,
     "metadata": {},
     "output_type": "execute_result"
    }
   ],
   "source": [
    "(df_del.id.dtype)"
   ]
  },
  {
   "cell_type": "code",
   "execution_count": 120,
   "metadata": {},
   "outputs": [
    {
     "data": {
      "text/plain": [
       "dtype('int64')"
      ]
     },
     "execution_count": 120,
     "metadata": {},
     "output_type": "execute_result"
    }
   ],
   "source": [
    "df_matches.id.dtype"
   ]
  },
  {
   "cell_type": "code",
   "execution_count": 121,
   "metadata": {},
   "outputs": [
    {
     "data": {
      "text/plain": [
       "(260920, 37)"
      ]
     },
     "execution_count": 121,
     "metadata": {},
     "output_type": "execute_result"
    }
   ],
   "source": [
    "merged_df = pd.merge(df_del,df_matches, on='id',how='outer' )\n",
    "merged_df.shape"
   ]
  },
  {
   "cell_type": "code",
   "execution_count": 122,
   "metadata": {},
   "outputs": [
    {
     "name": "stdout",
     "output_type": "stream",
     "text": [
      "<class 'pandas.core.frame.DataFrame'>\n",
      "Int64Index: 260920 entries, 0 to 260919\n",
      "Data columns (total 37 columns):\n",
      " #   Column            Non-Null Count   Dtype  \n",
      "---  ------            --------------   -----  \n",
      " 0   inning            260920 non-null  int64  \n",
      " 1   batting_team      260920 non-null  object \n",
      " 2   bowling_team      260920 non-null  object \n",
      " 3   over              260920 non-null  int64  \n",
      " 4   ball              260920 non-null  int64  \n",
      " 5   batter            260920 non-null  object \n",
      " 6   bowler            260920 non-null  object \n",
      " 7   non_striker       260920 non-null  object \n",
      " 8   batsman_runs      260920 non-null  int64  \n",
      " 9   extra_runs        260920 non-null  int64  \n",
      " 10  total_runs        260920 non-null  int64  \n",
      " 11  extras_type       14125 non-null   object \n",
      " 12  is_wicket         260920 non-null  int64  \n",
      " 13  player_dismissed  12950 non-null   object \n",
      " 14  dismissal_kind    12950 non-null   object \n",
      " 15  fielder           9354 non-null    object \n",
      " 16  id                260920 non-null  int64  \n",
      " 17  season            260920 non-null  object \n",
      " 18  city              248523 non-null  object \n",
      " 19  date              260920 non-null  object \n",
      " 20  match_type        260920 non-null  object \n",
      " 21  player_of_match   260430 non-null  object \n",
      " 22  venue             260920 non-null  object \n",
      " 23  team1             260920 non-null  object \n",
      " 24  team2             260920 non-null  object \n",
      " 25  toss_winner       260920 non-null  object \n",
      " 26  toss_decision     260920 non-null  object \n",
      " 27  winner            260430 non-null  object \n",
      " 28  result            260920 non-null  object \n",
      " 29  result_margin     256796 non-null  float64\n",
      " 30  target_runs       260611 non-null  float64\n",
      " 31  target_overs      260611 non-null  float64\n",
      " 32  super_over        260920 non-null  object \n",
      " 33  method            3646 non-null    object \n",
      " 34  umpire1           260920 non-null  object \n",
      " 35  umpire2           260920 non-null  object \n",
      " 36  year              260920 non-null  int64  \n",
      "dtypes: float64(3), int64(9), object(25)\n",
      "memory usage: 75.6+ MB\n"
     ]
    }
   ],
   "source": [
    "merged_df.info()"
   ]
  },
  {
   "cell_type": "code",
   "execution_count": 123,
   "metadata": {},
   "outputs": [],
   "source": [
    "# merged_df.to_csv(\"merged_matches&devlieries.csv\")"
   ]
  },
  {
   "attachments": {},
   "cell_type": "markdown",
   "metadata": {},
   "source": [
    "#### Data Quality"
   ]
  },
  {
   "cell_type": "code",
   "execution_count": 170,
   "metadata": {},
   "outputs": [],
   "source": [
    "df = merged_df.copy()"
   ]
  },
  {
   "cell_type": "code",
   "execution_count": 171,
   "metadata": {},
   "outputs": [
    {
     "data": {
      "text/html": [
       "<div>\n",
       "<style scoped>\n",
       "    .dataframe tbody tr th:only-of-type {\n",
       "        vertical-align: middle;\n",
       "    }\n",
       "\n",
       "    .dataframe tbody tr th {\n",
       "        vertical-align: top;\n",
       "    }\n",
       "\n",
       "    .dataframe thead th {\n",
       "        text-align: right;\n",
       "    }\n",
       "</style>\n",
       "<table border=\"1\" class=\"dataframe\">\n",
       "  <thead>\n",
       "    <tr style=\"text-align: right;\">\n",
       "      <th></th>\n",
       "      <th>Column Type</th>\n",
       "      <th>Count</th>\n",
       "      <th>Columns</th>\n",
       "    </tr>\n",
       "  </thead>\n",
       "  <tbody>\n",
       "    <tr>\n",
       "      <th>0</th>\n",
       "      <td>Numeric</td>\n",
       "      <td>12</td>\n",
       "      <td>inning, over, ball, batsman_runs, extra_runs, ...</td>\n",
       "    </tr>\n",
       "    <tr>\n",
       "      <th>1</th>\n",
       "      <td>Categorical</td>\n",
       "      <td>25</td>\n",
       "      <td>batting_team, bowling_team, batter, bowler, no...</td>\n",
       "    </tr>\n",
       "    <tr>\n",
       "      <th>2</th>\n",
       "      <td>Other</td>\n",
       "      <td>0</td>\n",
       "      <td>None</td>\n",
       "    </tr>\n",
       "  </tbody>\n",
       "</table>\n",
       "</div>"
      ],
      "text/plain": [
       "   Column Type  Count                                            Columns\n",
       "0      Numeric     12  inning, over, ball, batsman_runs, extra_runs, ...\n",
       "1  Categorical     25  batting_team, bowling_team, batter, bowler, no...\n",
       "2        Other      0                                               None"
      ]
     },
     "metadata": {},
     "output_type": "display_data"
    }
   ],
   "source": [
    "numeric_cols = df.select_dtypes(include=['int64', 'float64']).columns.tolist()\n",
    "categorical_cols = df.select_dtypes(include=['object', 'category']).columns.tolist()\n",
    "other_cols = df.select_dtypes(exclude=['int64', 'float64', 'object', 'category']).columns.tolist()\n",
    "\n",
    "summary_data = [\n",
    "    [\"Numeric\", len(numeric_cols), \", \".join(numeric_cols) if numeric_cols else \"None\"],\n",
    "    [\"Categorical\", len(categorical_cols), \", \".join(categorical_cols) if categorical_cols else \"None\"],\n",
    "    [\"Other\", len(other_cols), \", \".join(other_cols) if other_cols else \"None\"]\n",
    "]\n",
    "\n",
    "column_summary = pd.DataFrame(summary_data, columns=[\"Column Type\", \"Count\", \"Columns\"])\n",
    "display(column_summary)"
   ]
  },
  {
   "cell_type": "code",
   "execution_count": 172,
   "metadata": {},
   "outputs": [
    {
     "name": "stdout",
     "output_type": "stream",
     "text": [
      "(260920, 37)\n"
     ]
    },
    {
     "data": {
      "text/plain": [
       "method              257274\n",
       "fielder             251566\n",
       "dismissal_kind      247970\n",
       "player_dismissed    247970\n",
       "extras_type         246795\n",
       "city                 12397\n",
       "result_margin         4124\n",
       "player_of_match        490\n",
       "winner                 490\n",
       "target_runs            309\n",
       "target_overs           309\n",
       "result                   0\n",
       "toss_decision            0\n",
       "super_over               0\n",
       "umpire1                  0\n",
       "umpire2                  0\n",
       "toss_winner              0\n",
       "team2                    0\n",
       "team1                    0\n",
       "venue                    0\n",
       "inning                   0\n",
       "match_type               0\n",
       "date                     0\n",
       "batting_team             0\n",
       "season                   0\n",
       "id                       0\n",
       "is_wicket                0\n",
       "total_runs               0\n",
       "extra_runs               0\n",
       "batsman_runs             0\n",
       "non_striker              0\n",
       "bowler                   0\n",
       "batter                   0\n",
       "ball                     0\n",
       "over                     0\n",
       "bowling_team             0\n",
       "year                     0\n",
       "dtype: int64"
      ]
     },
     "execution_count": 172,
     "metadata": {},
     "output_type": "execute_result"
    }
   ],
   "source": [
    "# Check for Missing Values\n",
    "print(df.shape)\n",
    "df.isnull().sum().sort_values(ascending=False)"
   ]
  },
  {
   "cell_type": "code",
   "execution_count": 173,
   "metadata": {},
   "outputs": [
    {
     "data": {
      "text/plain": [
       "array([nan, 'D/L'], dtype=object)"
      ]
     },
     "execution_count": 173,
     "metadata": {},
     "output_type": "execute_result"
    }
   ],
   "source": [
    "df.method.unique()"
   ]
  },
  {
   "cell_type": "code",
   "execution_count": 174,
   "metadata": {},
   "outputs": [],
   "source": [
    "# dropping method because we are not taking matches with no results due to some unseen circumstances \n",
    "# drop date as we are using year\n",
    "\n",
    "df.drop(columns=['method','date','fielder','result_margin'], inplace=True)"
   ]
  },
  {
   "cell_type": "code",
   "execution_count": 175,
   "metadata": {},
   "outputs": [
    {
     "data": {
      "text/plain": [
       "(260920, 33)"
      ]
     },
     "execution_count": 175,
     "metadata": {},
     "output_type": "execute_result"
    }
   ],
   "source": [
    "df.shape"
   ]
  },
  {
   "cell_type": "code",
   "execution_count": 176,
   "metadata": {},
   "outputs": [
    {
     "data": {
      "text/plain": [
       "NaN                      247970\n",
       "caught                     8063\n",
       "bowled                     2212\n",
       "run out                    1114\n",
       "lbw                         800\n",
       "caught and bowled           367\n",
       "stumped                     358\n",
       "retired hurt                 15\n",
       "hit wicket                   15\n",
       "obstructing the field         3\n",
       "retired out                   3\n",
       "Name: dismissal_kind, dtype: int64"
      ]
     },
     "execution_count": 176,
     "metadata": {},
     "output_type": "execute_result"
    }
   ],
   "source": [
    "df['dismissal_kind'].value_counts(dropna=False)"
   ]
  },
  {
   "cell_type": "code",
   "execution_count": 177,
   "metadata": {},
   "outputs": [
    {
     "data": {
      "text/plain": [
       "NaN            247970\n",
       "RG Sharma         223\n",
       "V Kohli           207\n",
       "S Dhawan          193\n",
       "KD Karthik        184\n",
       "                ...  \n",
       "BJ Haddin           1\n",
       "SS Cottrell         1\n",
       "JE Taylor           1\n",
       "NL McCullum         1\n",
       "Sunny Gupta         1\n",
       "Name: player_dismissed, Length: 630, dtype: int64"
      ]
     },
     "execution_count": 177,
     "metadata": {},
     "output_type": "execute_result"
    }
   ],
   "source": [
    "df['player_dismissed'].value_counts(dropna=False)"
   ]
  },
  {
   "cell_type": "code",
   "execution_count": 178,
   "metadata": {},
   "outputs": [
    {
     "data": {
      "text/plain": [
       "NaN        246795\n",
       "wides        8380\n",
       "legbyes      4001\n",
       "noballs      1069\n",
       "byes          673\n",
       "penalty         2\n",
       "Name: extras_type, dtype: int64"
      ]
     },
     "execution_count": 178,
     "metadata": {},
     "output_type": "execute_result"
    }
   ],
   "source": [
    "df['extras_type'].value_counts(dropna=False)"
   ]
  },
  {
   "cell_type": "code",
   "execution_count": 179,
   "metadata": {},
   "outputs": [
    {
     "data": {
      "text/plain": [
       "array(['Kolkata Knight Riders', 'Royal Challengers Bangalore',\n",
       "       'Chennai Super Kings', 'Kings XI Punjab', 'Rajasthan Royals',\n",
       "       'Delhi Daredevils', 'Mumbai Indians', 'Deccan Chargers',\n",
       "       'Kochi Tuskers Kerala', 'Pune Warriors', 'Sunrisers Hyderabad',\n",
       "       'Rising Pune Supergiants', 'Gujarat Lions',\n",
       "       'Rising Pune Supergiant', 'Delhi Capitals', 'Punjab Kings',\n",
       "       'Lucknow Super Giants', 'Gujarat Titans',\n",
       "       'Royal Challengers Bengaluru'], dtype=object)"
      ]
     },
     "execution_count": 179,
     "metadata": {},
     "output_type": "execute_result"
    }
   ],
   "source": [
    "df['batting_team'].unique()"
   ]
  },
  {
   "cell_type": "code",
   "execution_count": 180,
   "metadata": {},
   "outputs": [
    {
     "data": {
      "text/plain": [
       "array(['Royal Challengers Bangalore', 'Kings XI Punjab',\n",
       "       'Delhi Daredevils', 'Mumbai Indians', 'Kolkata Knight Riders',\n",
       "       'Rajasthan Royals', 'Deccan Chargers', 'Chennai Super Kings',\n",
       "       'Kochi Tuskers Kerala', 'Pune Warriors', 'Sunrisers Hyderabad',\n",
       "       'Gujarat Lions', 'Rising Pune Supergiants',\n",
       "       'Rising Pune Supergiant', 'Delhi Capitals', 'Punjab Kings',\n",
       "       'Lucknow Super Giants', 'Gujarat Titans',\n",
       "       'Royal Challengers Bengaluru'], dtype=object)"
      ]
     },
     "execution_count": 180,
     "metadata": {},
     "output_type": "execute_result"
    }
   ],
   "source": [
    "df['team1'].unique()\n"
   ]
  },
  {
   "cell_type": "code",
   "execution_count": 181,
   "metadata": {},
   "outputs": [
    {
     "data": {
      "text/plain": [
       "Mumbai            41742\n",
       "Kolkata           21846\n",
       "Delhi             21269\n",
       "Chennai           20706\n",
       "Hyderabad         18355\n",
       "Bangalore         14907\n",
       "Chandigarh        14476\n",
       "Jaipur            13520\n",
       "NaN               12397\n",
       "Pune              12239\n",
       "Abu Dhabi          8799\n",
       "Ahmedabad          8553\n",
       "Bengaluru          6917\n",
       "Durban             3643\n",
       "Visakhapatnam      3537\n",
       "Lucknow            3283\n",
       "Dubai              3149\n",
       "Dharamsala         3141\n",
       "Centurion          2866\n",
       "Rajkot             2381\n",
       "Sharjah            2355\n",
       "Navi Mumbai        2188\n",
       "Indore             1965\n",
       "Johannesburg       1940\n",
       "Cuttack            1695\n",
       "Port Elizabeth     1677\n",
       "Ranchi             1671\n",
       "Cape Town          1539\n",
       "Raipur             1431\n",
       "Mohali             1235\n",
       "Kochi              1155\n",
       "Kanpur              921\n",
       "Nagpur              742\n",
       "Guwahati            739\n",
       "Kimberley           726\n",
       "East London         715\n",
       "Bloemfontein        500\n",
       "Name: city, dtype: int64"
      ]
     },
     "execution_count": 181,
     "metadata": {},
     "output_type": "execute_result"
    }
   ],
   "source": [
    "df['city'].value_counts(dropna=False)"
   ]
  },
  {
   "cell_type": "code",
   "execution_count": 182,
   "metadata": {},
   "outputs": [
    {
     "name": "stdout",
     "output_type": "stream",
     "text": [
      "51\n",
      "['Sharjah Cricket Stadium' 'Dubai International Cricket Stadium']\n"
     ]
    }
   ],
   "source": [
    "df_city_nan = df[df['city'].isna()]\n",
    "print(df_city_nan.id.nunique())\n",
    "print(df_city_nan.venue.unique())"
   ]
  },
  {
   "cell_type": "code",
   "execution_count": 183,
   "metadata": {},
   "outputs": [],
   "source": [
    "# Replacing nan values with values that make sense for our dataset\n",
    "df['dismissal_kind'].fillna('Not_Dismissed', inplace=True)\n",
    "df['player_dismissed'].fillna('Not_Dismissed', inplace=True)\n",
    "df['extras_type'].fillna('No_extras', inplace=True)\n",
    "df['city'].fillna('UAE', inplace=True)"
   ]
  },
  {
   "cell_type": "code",
   "execution_count": 187,
   "metadata": {},
   "outputs": [],
   "source": [
    "df_quality = df.dropna(subset=['player_of_match', 'winner', 'target_runs', 'target_overs']).reset_index(drop=True)\n"
   ]
  },
  {
   "cell_type": "code",
   "execution_count": 188,
   "metadata": {},
   "outputs": [
    {
     "name": "stdout",
     "output_type": "stream",
     "text": [
      "<class 'pandas.core.frame.DataFrame'>\n",
      "RangeIndex: 260430 entries, 0 to 260429\n",
      "Data columns (total 33 columns):\n",
      " #   Column            Non-Null Count   Dtype  \n",
      "---  ------            --------------   -----  \n",
      " 0   inning            260430 non-null  int64  \n",
      " 1   batting_team      260430 non-null  object \n",
      " 2   bowling_team      260430 non-null  object \n",
      " 3   over              260430 non-null  int64  \n",
      " 4   ball              260430 non-null  int64  \n",
      " 5   batter            260430 non-null  object \n",
      " 6   bowler            260430 non-null  object \n",
      " 7   non_striker       260430 non-null  object \n",
      " 8   batsman_runs      260430 non-null  int64  \n",
      " 9   extra_runs        260430 non-null  int64  \n",
      " 10  total_runs        260430 non-null  int64  \n",
      " 11  extras_type       260430 non-null  object \n",
      " 12  is_wicket         260430 non-null  int64  \n",
      " 13  player_dismissed  260430 non-null  object \n",
      " 14  dismissal_kind    260430 non-null  object \n",
      " 15  id                260430 non-null  int64  \n",
      " 16  season            260430 non-null  object \n",
      " 17  city              260430 non-null  object \n",
      " 18  match_type        260430 non-null  object \n",
      " 19  player_of_match   260430 non-null  object \n",
      " 20  venue             260430 non-null  object \n",
      " 21  team1             260430 non-null  object \n",
      " 22  team2             260430 non-null  object \n",
      " 23  toss_winner       260430 non-null  object \n",
      " 24  toss_decision     260430 non-null  object \n",
      " 25  winner            260430 non-null  object \n",
      " 26  result            260430 non-null  object \n",
      " 27  target_runs       260430 non-null  float64\n",
      " 28  target_overs      260430 non-null  float64\n",
      " 29  super_over        260430 non-null  object \n",
      " 30  umpire1           260430 non-null  object \n",
      " 31  umpire2           260430 non-null  object \n",
      " 32  year              260430 non-null  int64  \n",
      "dtypes: float64(2), int64(9), object(22)\n",
      "memory usage: 65.6+ MB\n"
     ]
    }
   ],
   "source": [
    "df_quality.info()"
   ]
  },
  {
   "attachments": {},
   "cell_type": "markdown",
   "metadata": {},
   "source": [
    "#### Data Cleaning"
   ]
  },
  {
   "cell_type": "code",
   "execution_count": 189,
   "metadata": {},
   "outputs": [],
   "source": [
    "raw_clean_df = df_quality.copy()"
   ]
  },
  {
   "cell_type": "code",
   "execution_count": 194,
   "metadata": {},
   "outputs": [
    {
     "data": {
      "text/plain": [
       "Index(['inning', 'batting_team', 'bowling_team', 'over', 'ball', 'batter',\n",
       "       'bowler', 'non_striker', 'batsman_runs', 'extra_runs', 'total_runs',\n",
       "       'extras_type', 'is_wicket', 'player_dismissed', 'dismissal_kind', 'id',\n",
       "       'season', 'city', 'match_type', 'player_of_match', 'venue', 'team1',\n",
       "       'team2', 'toss_winner', 'toss_decision', 'winner', 'result',\n",
       "       'target_runs', 'target_overs', 'super_over', 'umpire1', 'umpire2',\n",
       "       'year'],\n",
       "      dtype='object')"
      ]
     },
     "execution_count": 194,
     "metadata": {},
     "output_type": "execute_result"
    }
   ],
   "source": [
    "raw_clean_df.columns"
   ]
  },
  {
   "cell_type": "code",
   "execution_count": 190,
   "metadata": {},
   "outputs": [],
   "source": [
    "teams_map = {'Royal Challengers Bangalore':'Bangalore'\n",
    "              , 'Kings XI Punjab':'Punjab'\n",
    "              , 'Delhi Daredevils':'Delhi'\n",
    "              , 'Mumbai Indians':'Mumbai'\n",
    "              , 'Kolkata Knight Riders':'Kolkata'\n",
    "              , 'Rajasthan Royals':'Rajasthan'\n",
    "              , 'Deccan Chargers':'Hyderabad'\n",
    "              , 'Chennai Super Kings':'Chennai'\n",
    "              , 'Kochi Tuskers Kerala':'Kerala'\n",
    "              , 'Pune Warriors':'Pune'\n",
    "              , 'Sunrisers Hyderabad':'Hyderabad'\n",
    "              , 'Gujarat Lions':'Gujarat'\n",
    "              , 'Rising Pune Supergiants':'Pune'\n",
    "              , 'Rising Pune Supergiant':'Pune'\n",
    "              , 'Delhi Capitals':'Delhi'\n",
    "              , 'Punjab Kings':'Punjab'\n",
    "              , 'Lucknow Super Giants':'Lucknow'\n",
    "              , 'Gujarat Titans':'Gujarat'\n",
    "              , 'Royal Challengers Bengaluru':'Bangalore'\n",
    "}\n",
    "for col in (raw_clean_df.columns):\n",
    "    raw_clean_df[col] = raw_clean_df[col].apply(lambda x: teams_map.get(x, x))"
   ]
  },
  {
   "cell_type": "code",
   "execution_count": 191,
   "metadata": {},
   "outputs": [],
   "source": [
    "venue_mapping = {\n",
    "    'Eden Gardens, Kolkata': 'Eden Gardens',\n",
    "    'MA Chidambaram Stadium, Chepauk': 'MA Chidambaram Stadium',\n",
    "    'MA Chidambaram Stadium, Chepauk, Chennai': 'MA Chidambaram Stadium',\n",
    "    'Wankhede Stadium, Mumbai': 'Wankhede Stadium',\n",
    "    'Punjab Cricket Association IS Bindra Stadium, Mohali': 'Punjab Cricket Association Stadium',\n",
    "    'Punjab Cricket Association IS Bindra Stadium': 'Punjab Cricket Association Stadium',\n",
    "    'Punjab Cricket Association IS Bindra Stadium, Mohali, Chandigarh': 'Punjab Cricket Association Stadium',\n",
    "    'Rajiv Gandhi International Stadium, Uppal': 'Rajiv Gandhi International Stadium',\n",
    "    'Rajiv Gandhi International Stadium, Uppal, Hyderabad': 'Rajiv Gandhi International Stadium',\n",
    "    'Arun Jaitley Stadium, Delhi': 'Arun Jaitley Stadium',\n",
    "    'Dr DY Patil Sports Academy, Mumbai': 'Dr DY Patil Sports Academy',\n",
    "    'Maharashtra Cricket Association Stadium, Pune': 'Maharashtra Cricket Association Stadium',\n",
    "    'M Chinnaswamy Stadium, Bengaluru': 'M Chinnaswamy Stadium',\n",
    "    'Dr. Y.S. Rajasekhara Reddy ACA-VDCA Cricket Stadium, Visakhapatnam': 'Dr. Y.S. Rajasekhara Reddy ACA-VDCA Cricket Stadium',\n",
    "    'Sawai Mansingh Stadium, Jaipur': 'Sawai Mansingh Stadium',\n",
    "    'Himachal Pradesh Cricket Association Stadium, Dharamsala': 'Himachal Pradesh Cricket Association Stadium'\n",
    "}\n",
    "for col in (raw_clean_df.columns):\n",
    "    raw_clean_df[col] = raw_clean_df[col].apply(lambda x: venue_mapping.get(x, x))"
   ]
  },
  {
   "cell_type": "code",
   "execution_count": 199,
   "metadata": {},
   "outputs": [
    {
     "name": "stdout",
     "output_type": "stream",
     "text": [
      "Unique values in Team before mapping: 19\n",
      "Unique values in Team after mapping: 12\n",
      "The reduction in unique Team values indicates that different categories have been properly mapped to unified values.\n",
      "\n"
     ]
    },
    {
     "name": "stdout",
     "output_type": "stream",
     "text": [
      "Unique values in Venue before mapping: 58\n",
      "Unique values in Venue after mapping: 43\n",
      "The decrease in unique Venue values confirms that varying category names have been correctly consolidated.\n"
     ]
    }
   ],
   "source": [
    "print(f\"Unique values in Team before mapping: {df_quality.team1.nunique()}\")\n",
    "print(f\"Unique values in Team after mapping: {raw_clean_df.team1.nunique()}\")\n",
    "print(\"The reduction in unique Team values indicates that different categories have been properly mapped to unified values.\\n\")\n",
    "\n",
    "print(f\"Unique values in Venue before mapping: {df_quality.venue.nunique()}\")\n",
    "print(f\"Unique values in Venue after mapping: {raw_clean_df.venue.nunique()}\")\n",
    "print(\"The decrease in unique Venue values confirms that varying category names have been correctly consolidated.\")\n"
   ]
  },
  {
   "cell_type": "code",
   "execution_count": 202,
   "metadata": {},
   "outputs": [],
   "source": [
    "final_cleaned_df = raw_clean_df.copy()"
   ]
  },
  {
   "cell_type": "code",
   "execution_count": 206,
   "metadata": {},
   "outputs": [
    {
     "data": {
      "text/plain": [
       "(260920, 37)"
      ]
     },
     "execution_count": 206,
     "metadata": {},
     "output_type": "execute_result"
    }
   ],
   "source": [
    "merged_df.shape"
   ]
  },
  {
   "cell_type": "code",
   "execution_count": 203,
   "metadata": {},
   "outputs": [
    {
     "data": {
      "text/plain": [
       "(260430, 33)"
      ]
     },
     "execution_count": 203,
     "metadata": {},
     "output_type": "execute_result"
    }
   ],
   "source": [
    "final_cleaned_df.shape"
   ]
  },
  {
   "cell_type": "code",
   "execution_count": 205,
   "metadata": {},
   "outputs": [
    {
     "name": "stdout",
     "output_type": "stream",
     "text": [
      "<class 'pandas.core.frame.DataFrame'>\n",
      "RangeIndex: 260430 entries, 0 to 260429\n",
      "Data columns (total 33 columns):\n",
      " #   Column            Non-Null Count   Dtype  \n",
      "---  ------            --------------   -----  \n",
      " 0   inning            260430 non-null  int64  \n",
      " 1   batting_team      260430 non-null  object \n",
      " 2   bowling_team      260430 non-null  object \n",
      " 3   over              260430 non-null  int64  \n",
      " 4   ball              260430 non-null  int64  \n",
      " 5   batter            260430 non-null  object \n",
      " 6   bowler            260430 non-null  object \n",
      " 7   non_striker       260430 non-null  object \n",
      " 8   batsman_runs      260430 non-null  int64  \n",
      " 9   extra_runs        260430 non-null  int64  \n",
      " 10  total_runs        260430 non-null  int64  \n",
      " 11  extras_type       260430 non-null  object \n",
      " 12  is_wicket         260430 non-null  int64  \n",
      " 13  player_dismissed  260430 non-null  object \n",
      " 14  dismissal_kind    260430 non-null  object \n",
      " 15  id                260430 non-null  int64  \n",
      " 16  season            260430 non-null  object \n",
      " 17  city              260430 non-null  object \n",
      " 18  match_type        260430 non-null  object \n",
      " 19  player_of_match   260430 non-null  object \n",
      " 20  venue             260430 non-null  object \n",
      " 21  team1             260430 non-null  object \n",
      " 22  team2             260430 non-null  object \n",
      " 23  toss_winner       260430 non-null  object \n",
      " 24  toss_decision     260430 non-null  object \n",
      " 25  winner            260430 non-null  object \n",
      " 26  result            260430 non-null  object \n",
      " 27  target_runs       260430 non-null  float64\n",
      " 28  target_overs      260430 non-null  float64\n",
      " 29  super_over        260430 non-null  object \n",
      " 30  umpire1           260430 non-null  object \n",
      " 31  umpire2           260430 non-null  object \n",
      " 32  year              260430 non-null  int64  \n",
      "dtypes: float64(2), int64(9), object(22)\n",
      "memory usage: 65.6+ MB\n"
     ]
    }
   ],
   "source": [
    "final_cleaned_df.info()"
   ]
  },
  {
   "cell_type": "code",
   "execution_count": null,
   "metadata": {},
   "outputs": [],
   "source": []
  }
 ],
 "metadata": {
  "kernelspec": {
   "display_name": ".venv",
   "language": "python",
   "name": "python3"
  },
  "language_info": {
   "codemirror_mode": {
    "name": "ipython",
    "version": 3
   },
   "file_extension": ".py",
   "mimetype": "text/x-python",
   "name": "python",
   "nbconvert_exporter": "python",
   "pygments_lexer": "ipython3",
   "version": "3.11.9"
  },
  "orig_nbformat": 4
 },
 "nbformat": 4,
 "nbformat_minor": 2
}
