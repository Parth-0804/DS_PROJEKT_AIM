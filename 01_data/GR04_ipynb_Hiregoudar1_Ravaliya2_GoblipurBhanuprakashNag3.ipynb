{
 "cells": [
  {
   "attachments": {},
   "cell_type": "markdown",
   "metadata": {},
   "source": [
    "# INDIAN PREMIER LEAGUE DATA ANALYTICS\n",
    "The Indian Premier League (IPL) is a professional Twenty20 cricket league in India usually contested between March and May of every year by eight teams representing eight different cities or states in India. The league was founded by\n",
    "the Board of Control for Cricket in India (BCCI) in 2007. The IPL is the most-attended cricket league in the world and the brand value of the IPL in 2019 was ₹475 billion (US$6.7 billion)\n",
    "### Dataset Exploratory Analysis\n",
    "#### Dataset link: https://www.kaggle.com/datasets/patrickb1912/ipl-complete-dataset-20082020\n"
   ]
  },
  {
   "attachments": {},
   "cell_type": "markdown",
   "metadata": {},
   "source": [
    "## Exploratory Data analysis\n",
    "### Utilises Medallion architecture for understanding, transforming and producing the final dataset used further for Training ML models\n",
    "#### Medallion architecture contains of Bronze, Silver and Gold Layer of Dataset analysis\n"
   ]
  },
  {
   "attachments": {},
   "cell_type": "markdown",
   "metadata": {},
   "source": [
    "### Bronze layer \n",
    "#### Loading of raw data in notebook, loading of different libraries required"
   ]
  },
  {
   "cell_type": "code",
   "execution_count": 2,
   "metadata": {},
   "outputs": [],
   "source": [
    "import numpy as np\n",
    "import pandas as pd\n",
    "import math\n",
    "import matplotlib.pyplot as plt\n",
    "import plotly.express as px\n",
    "import plotly.graph_objects as go\n",
    "from plotly.subplots import make_subplots\n",
    "import plotly.figure_factory as ff\n",
    "import plotly\n",
    "from plotly.offline import plot, iplot\n",
    "import seaborn as sns\n",
    "import warnings\n",
    "warnings.filterwarnings('ignore')"
   ]
  },
  {
   "cell_type": "code",
   "execution_count": 3,
   "metadata": {},
   "outputs": [],
   "source": [
    "# Load data\n",
    "matches = pd.read_csv('matches.csv')\n",
    "deliveries = pd.read_csv('deliveries.csv')"
   ]
  },
  {
   "attachments": {},
   "cell_type": "markdown",
   "metadata": {},
   "source": [
    "### Silver layer \n",
    "#### Understanding, Cleaning, standardizing, filtering dataset"
   ]
  },
  {
   "attachments": {},
   "cell_type": "markdown",
   "metadata": {},
   "source": [
    "#### Describe Data"
   ]
  },
  {
   "cell_type": "code",
   "execution_count": 4,
   "metadata": {},
   "outputs": [
    {
     "name": "stdout",
     "output_type": "stream",
     "text": [
      "Matches DataFrame shape: (1095, 20) (rows, columns)\n",
      "Deliveries DataFrame shape: (260920, 17) (rows, columns)\n"
     ]
    }
   ],
   "source": [
    "print(f\"Matches DataFrame shape: {matches.shape} (rows, columns)\")\n",
    "print(f\"Deliveries DataFrame shape: {deliveries.shape} (rows, columns)\")\n"
   ]
  },
  {
   "cell_type": "code",
   "execution_count": 5,
   "metadata": {},
   "outputs": [
    {
     "data": {
      "text/html": [
       "<div>\n",
       "<style scoped>\n",
       "    .dataframe tbody tr th:only-of-type {\n",
       "        vertical-align: middle;\n",
       "    }\n",
       "\n",
       "    .dataframe tbody tr th {\n",
       "        vertical-align: top;\n",
       "    }\n",
       "\n",
       "    .dataframe thead th {\n",
       "        text-align: right;\n",
       "    }\n",
       "</style>\n",
       "<table border=\"1\" class=\"dataframe\">\n",
       "  <thead>\n",
       "    <tr style=\"text-align: right;\">\n",
       "      <th></th>\n",
       "      <th>id</th>\n",
       "      <th>season</th>\n",
       "      <th>city</th>\n",
       "      <th>date</th>\n",
       "      <th>match_type</th>\n",
       "      <th>player_of_match</th>\n",
       "      <th>venue</th>\n",
       "      <th>team1</th>\n",
       "      <th>team2</th>\n",
       "      <th>toss_winner</th>\n",
       "      <th>toss_decision</th>\n",
       "      <th>winner</th>\n",
       "      <th>result</th>\n",
       "      <th>result_margin</th>\n",
       "      <th>target_runs</th>\n",
       "      <th>target_overs</th>\n",
       "      <th>super_over</th>\n",
       "      <th>method</th>\n",
       "      <th>umpire1</th>\n",
       "      <th>umpire2</th>\n",
       "    </tr>\n",
       "  </thead>\n",
       "  <tbody>\n",
       "    <tr>\n",
       "      <th>0</th>\n",
       "      <td>335982</td>\n",
       "      <td>2007/08</td>\n",
       "      <td>Bangalore</td>\n",
       "      <td>2008-04-18</td>\n",
       "      <td>League</td>\n",
       "      <td>BB McCullum</td>\n",
       "      <td>M Chinnaswamy Stadium</td>\n",
       "      <td>Royal Challengers Bangalore</td>\n",
       "      <td>Kolkata Knight Riders</td>\n",
       "      <td>Royal Challengers Bangalore</td>\n",
       "      <td>field</td>\n",
       "      <td>Kolkata Knight Riders</td>\n",
       "      <td>runs</td>\n",
       "      <td>140.0</td>\n",
       "      <td>223.0</td>\n",
       "      <td>20.0</td>\n",
       "      <td>N</td>\n",
       "      <td>NaN</td>\n",
       "      <td>Asad Rauf</td>\n",
       "      <td>RE Koertzen</td>\n",
       "    </tr>\n",
       "    <tr>\n",
       "      <th>1</th>\n",
       "      <td>335983</td>\n",
       "      <td>2007/08</td>\n",
       "      <td>Chandigarh</td>\n",
       "      <td>2008-04-19</td>\n",
       "      <td>League</td>\n",
       "      <td>MEK Hussey</td>\n",
       "      <td>Punjab Cricket Association Stadium, Mohali</td>\n",
       "      <td>Kings XI Punjab</td>\n",
       "      <td>Chennai Super Kings</td>\n",
       "      <td>Chennai Super Kings</td>\n",
       "      <td>bat</td>\n",
       "      <td>Chennai Super Kings</td>\n",
       "      <td>runs</td>\n",
       "      <td>33.0</td>\n",
       "      <td>241.0</td>\n",
       "      <td>20.0</td>\n",
       "      <td>N</td>\n",
       "      <td>NaN</td>\n",
       "      <td>MR Benson</td>\n",
       "      <td>SL Shastri</td>\n",
       "    </tr>\n",
       "    <tr>\n",
       "      <th>2</th>\n",
       "      <td>335984</td>\n",
       "      <td>2007/08</td>\n",
       "      <td>Delhi</td>\n",
       "      <td>2008-04-19</td>\n",
       "      <td>League</td>\n",
       "      <td>MF Maharoof</td>\n",
       "      <td>Feroz Shah Kotla</td>\n",
       "      <td>Delhi Daredevils</td>\n",
       "      <td>Rajasthan Royals</td>\n",
       "      <td>Rajasthan Royals</td>\n",
       "      <td>bat</td>\n",
       "      <td>Delhi Daredevils</td>\n",
       "      <td>wickets</td>\n",
       "      <td>9.0</td>\n",
       "      <td>130.0</td>\n",
       "      <td>20.0</td>\n",
       "      <td>N</td>\n",
       "      <td>NaN</td>\n",
       "      <td>Aleem Dar</td>\n",
       "      <td>GA Pratapkumar</td>\n",
       "    </tr>\n",
       "    <tr>\n",
       "      <th>3</th>\n",
       "      <td>335985</td>\n",
       "      <td>2007/08</td>\n",
       "      <td>Mumbai</td>\n",
       "      <td>2008-04-20</td>\n",
       "      <td>League</td>\n",
       "      <td>MV Boucher</td>\n",
       "      <td>Wankhede Stadium</td>\n",
       "      <td>Mumbai Indians</td>\n",
       "      <td>Royal Challengers Bangalore</td>\n",
       "      <td>Mumbai Indians</td>\n",
       "      <td>bat</td>\n",
       "      <td>Royal Challengers Bangalore</td>\n",
       "      <td>wickets</td>\n",
       "      <td>5.0</td>\n",
       "      <td>166.0</td>\n",
       "      <td>20.0</td>\n",
       "      <td>N</td>\n",
       "      <td>NaN</td>\n",
       "      <td>SJ Davis</td>\n",
       "      <td>DJ Harper</td>\n",
       "    </tr>\n",
       "    <tr>\n",
       "      <th>4</th>\n",
       "      <td>335986</td>\n",
       "      <td>2007/08</td>\n",
       "      <td>Kolkata</td>\n",
       "      <td>2008-04-20</td>\n",
       "      <td>League</td>\n",
       "      <td>DJ Hussey</td>\n",
       "      <td>Eden Gardens</td>\n",
       "      <td>Kolkata Knight Riders</td>\n",
       "      <td>Deccan Chargers</td>\n",
       "      <td>Deccan Chargers</td>\n",
       "      <td>bat</td>\n",
       "      <td>Kolkata Knight Riders</td>\n",
       "      <td>wickets</td>\n",
       "      <td>5.0</td>\n",
       "      <td>111.0</td>\n",
       "      <td>20.0</td>\n",
       "      <td>N</td>\n",
       "      <td>NaN</td>\n",
       "      <td>BF Bowden</td>\n",
       "      <td>K Hariharan</td>\n",
       "    </tr>\n",
       "  </tbody>\n",
       "</table>\n",
       "</div>"
      ],
      "text/plain": [
       "       id   season        city        date match_type player_of_match  \\\n",
       "0  335982  2007/08   Bangalore  2008-04-18     League     BB McCullum   \n",
       "1  335983  2007/08  Chandigarh  2008-04-19     League      MEK Hussey   \n",
       "2  335984  2007/08       Delhi  2008-04-19     League     MF Maharoof   \n",
       "3  335985  2007/08      Mumbai  2008-04-20     League      MV Boucher   \n",
       "4  335986  2007/08     Kolkata  2008-04-20     League       DJ Hussey   \n",
       "\n",
       "                                        venue                        team1  \\\n",
       "0                       M Chinnaswamy Stadium  Royal Challengers Bangalore   \n",
       "1  Punjab Cricket Association Stadium, Mohali              Kings XI Punjab   \n",
       "2                            Feroz Shah Kotla             Delhi Daredevils   \n",
       "3                            Wankhede Stadium               Mumbai Indians   \n",
       "4                                Eden Gardens        Kolkata Knight Riders   \n",
       "\n",
       "                         team2                  toss_winner toss_decision  \\\n",
       "0        Kolkata Knight Riders  Royal Challengers Bangalore         field   \n",
       "1          Chennai Super Kings          Chennai Super Kings           bat   \n",
       "2             Rajasthan Royals             Rajasthan Royals           bat   \n",
       "3  Royal Challengers Bangalore               Mumbai Indians           bat   \n",
       "4              Deccan Chargers              Deccan Chargers           bat   \n",
       "\n",
       "                        winner   result  result_margin  target_runs  \\\n",
       "0        Kolkata Knight Riders     runs          140.0        223.0   \n",
       "1          Chennai Super Kings     runs           33.0        241.0   \n",
       "2             Delhi Daredevils  wickets            9.0        130.0   \n",
       "3  Royal Challengers Bangalore  wickets            5.0        166.0   \n",
       "4        Kolkata Knight Riders  wickets            5.0        111.0   \n",
       "\n",
       "   target_overs super_over method    umpire1         umpire2  \n",
       "0          20.0          N    NaN  Asad Rauf     RE Koertzen  \n",
       "1          20.0          N    NaN  MR Benson      SL Shastri  \n",
       "2          20.0          N    NaN  Aleem Dar  GA Pratapkumar  \n",
       "3          20.0          N    NaN   SJ Davis       DJ Harper  \n",
       "4          20.0          N    NaN  BF Bowden     K Hariharan  "
      ]
     },
     "execution_count": 5,
     "metadata": {},
     "output_type": "execute_result"
    }
   ],
   "source": [
    "matches.head()"
   ]
  },
  {
   "cell_type": "code",
   "execution_count": 6,
   "metadata": {},
   "outputs": [
    {
     "name": "stdout",
     "output_type": "stream",
     "text": [
      "<class 'pandas.core.frame.DataFrame'>\n",
      "RangeIndex: 1095 entries, 0 to 1094\n",
      "Data columns (total 20 columns):\n",
      " #   Column           Non-Null Count  Dtype  \n",
      "---  ------           --------------  -----  \n",
      " 0   id               1095 non-null   int64  \n",
      " 1   season           1095 non-null   object \n",
      " 2   city             1044 non-null   object \n",
      " 3   date             1095 non-null   object \n",
      " 4   match_type       1095 non-null   object \n",
      " 5   player_of_match  1090 non-null   object \n",
      " 6   venue            1095 non-null   object \n",
      " 7   team1            1095 non-null   object \n",
      " 8   team2            1095 non-null   object \n",
      " 9   toss_winner      1095 non-null   object \n",
      " 10  toss_decision    1095 non-null   object \n",
      " 11  winner           1090 non-null   object \n",
      " 12  result           1095 non-null   object \n",
      " 13  result_margin    1076 non-null   float64\n",
      " 14  target_runs      1092 non-null   float64\n",
      " 15  target_overs     1092 non-null   float64\n",
      " 16  super_over       1095 non-null   object \n",
      " 17  method           21 non-null     object \n",
      " 18  umpire1          1095 non-null   object \n",
      " 19  umpire2          1095 non-null   object \n",
      "dtypes: float64(3), int64(1), object(16)\n",
      "memory usage: 171.2+ KB\n"
     ]
    }
   ],
   "source": [
    "matches.info()"
   ]
  },
  {
   "cell_type": "code",
   "execution_count": 7,
   "metadata": {},
   "outputs": [
    {
     "data": {
      "text/html": [
       "<div>\n",
       "<style scoped>\n",
       "    .dataframe tbody tr th:only-of-type {\n",
       "        vertical-align: middle;\n",
       "    }\n",
       "\n",
       "    .dataframe tbody tr th {\n",
       "        vertical-align: top;\n",
       "    }\n",
       "\n",
       "    .dataframe thead th {\n",
       "        text-align: right;\n",
       "    }\n",
       "</style>\n",
       "<table border=\"1\" class=\"dataframe\">\n",
       "  <thead>\n",
       "    <tr style=\"text-align: right;\">\n",
       "      <th></th>\n",
       "      <th>match_id</th>\n",
       "      <th>inning</th>\n",
       "      <th>batting_team</th>\n",
       "      <th>bowling_team</th>\n",
       "      <th>over</th>\n",
       "      <th>ball</th>\n",
       "      <th>batter</th>\n",
       "      <th>bowler</th>\n",
       "      <th>non_striker</th>\n",
       "      <th>batsman_runs</th>\n",
       "      <th>extra_runs</th>\n",
       "      <th>total_runs</th>\n",
       "      <th>extras_type</th>\n",
       "      <th>is_wicket</th>\n",
       "      <th>player_dismissed</th>\n",
       "      <th>dismissal_kind</th>\n",
       "      <th>fielder</th>\n",
       "    </tr>\n",
       "  </thead>\n",
       "  <tbody>\n",
       "    <tr>\n",
       "      <th>0</th>\n",
       "      <td>335982</td>\n",
       "      <td>1</td>\n",
       "      <td>Kolkata Knight Riders</td>\n",
       "      <td>Royal Challengers Bangalore</td>\n",
       "      <td>0</td>\n",
       "      <td>1</td>\n",
       "      <td>SC Ganguly</td>\n",
       "      <td>P Kumar</td>\n",
       "      <td>BB McCullum</td>\n",
       "      <td>0</td>\n",
       "      <td>1</td>\n",
       "      <td>1</td>\n",
       "      <td>legbyes</td>\n",
       "      <td>0</td>\n",
       "      <td>NaN</td>\n",
       "      <td>NaN</td>\n",
       "      <td>NaN</td>\n",
       "    </tr>\n",
       "    <tr>\n",
       "      <th>1</th>\n",
       "      <td>335982</td>\n",
       "      <td>1</td>\n",
       "      <td>Kolkata Knight Riders</td>\n",
       "      <td>Royal Challengers Bangalore</td>\n",
       "      <td>0</td>\n",
       "      <td>2</td>\n",
       "      <td>BB McCullum</td>\n",
       "      <td>P Kumar</td>\n",
       "      <td>SC Ganguly</td>\n",
       "      <td>0</td>\n",
       "      <td>0</td>\n",
       "      <td>0</td>\n",
       "      <td>NaN</td>\n",
       "      <td>0</td>\n",
       "      <td>NaN</td>\n",
       "      <td>NaN</td>\n",
       "      <td>NaN</td>\n",
       "    </tr>\n",
       "    <tr>\n",
       "      <th>2</th>\n",
       "      <td>335982</td>\n",
       "      <td>1</td>\n",
       "      <td>Kolkata Knight Riders</td>\n",
       "      <td>Royal Challengers Bangalore</td>\n",
       "      <td>0</td>\n",
       "      <td>3</td>\n",
       "      <td>BB McCullum</td>\n",
       "      <td>P Kumar</td>\n",
       "      <td>SC Ganguly</td>\n",
       "      <td>0</td>\n",
       "      <td>1</td>\n",
       "      <td>1</td>\n",
       "      <td>wides</td>\n",
       "      <td>0</td>\n",
       "      <td>NaN</td>\n",
       "      <td>NaN</td>\n",
       "      <td>NaN</td>\n",
       "    </tr>\n",
       "    <tr>\n",
       "      <th>3</th>\n",
       "      <td>335982</td>\n",
       "      <td>1</td>\n",
       "      <td>Kolkata Knight Riders</td>\n",
       "      <td>Royal Challengers Bangalore</td>\n",
       "      <td>0</td>\n",
       "      <td>4</td>\n",
       "      <td>BB McCullum</td>\n",
       "      <td>P Kumar</td>\n",
       "      <td>SC Ganguly</td>\n",
       "      <td>0</td>\n",
       "      <td>0</td>\n",
       "      <td>0</td>\n",
       "      <td>NaN</td>\n",
       "      <td>0</td>\n",
       "      <td>NaN</td>\n",
       "      <td>NaN</td>\n",
       "      <td>NaN</td>\n",
       "    </tr>\n",
       "    <tr>\n",
       "      <th>4</th>\n",
       "      <td>335982</td>\n",
       "      <td>1</td>\n",
       "      <td>Kolkata Knight Riders</td>\n",
       "      <td>Royal Challengers Bangalore</td>\n",
       "      <td>0</td>\n",
       "      <td>5</td>\n",
       "      <td>BB McCullum</td>\n",
       "      <td>P Kumar</td>\n",
       "      <td>SC Ganguly</td>\n",
       "      <td>0</td>\n",
       "      <td>0</td>\n",
       "      <td>0</td>\n",
       "      <td>NaN</td>\n",
       "      <td>0</td>\n",
       "      <td>NaN</td>\n",
       "      <td>NaN</td>\n",
       "      <td>NaN</td>\n",
       "    </tr>\n",
       "  </tbody>\n",
       "</table>\n",
       "</div>"
      ],
      "text/plain": [
       "   match_id  inning           batting_team                 bowling_team  over  \\\n",
       "0    335982       1  Kolkata Knight Riders  Royal Challengers Bangalore     0   \n",
       "1    335982       1  Kolkata Knight Riders  Royal Challengers Bangalore     0   \n",
       "2    335982       1  Kolkata Knight Riders  Royal Challengers Bangalore     0   \n",
       "3    335982       1  Kolkata Knight Riders  Royal Challengers Bangalore     0   \n",
       "4    335982       1  Kolkata Knight Riders  Royal Challengers Bangalore     0   \n",
       "\n",
       "   ball       batter   bowler  non_striker  batsman_runs  extra_runs  \\\n",
       "0     1   SC Ganguly  P Kumar  BB McCullum             0           1   \n",
       "1     2  BB McCullum  P Kumar   SC Ganguly             0           0   \n",
       "2     3  BB McCullum  P Kumar   SC Ganguly             0           1   \n",
       "3     4  BB McCullum  P Kumar   SC Ganguly             0           0   \n",
       "4     5  BB McCullum  P Kumar   SC Ganguly             0           0   \n",
       "\n",
       "   total_runs extras_type  is_wicket player_dismissed dismissal_kind fielder  \n",
       "0           1     legbyes          0              NaN            NaN     NaN  \n",
       "1           0         NaN          0              NaN            NaN     NaN  \n",
       "2           1       wides          0              NaN            NaN     NaN  \n",
       "3           0         NaN          0              NaN            NaN     NaN  \n",
       "4           0         NaN          0              NaN            NaN     NaN  "
      ]
     },
     "execution_count": 7,
     "metadata": {},
     "output_type": "execute_result"
    }
   ],
   "source": [
    "deliveries.head()"
   ]
  },
  {
   "cell_type": "code",
   "execution_count": 8,
   "metadata": {},
   "outputs": [
    {
     "name": "stdout",
     "output_type": "stream",
     "text": [
      "<class 'pandas.core.frame.DataFrame'>\n",
      "RangeIndex: 260920 entries, 0 to 260919\n",
      "Data columns (total 17 columns):\n",
      " #   Column            Non-Null Count   Dtype \n",
      "---  ------            --------------   ----- \n",
      " 0   match_id          260920 non-null  int64 \n",
      " 1   inning            260920 non-null  int64 \n",
      " 2   batting_team      260920 non-null  object\n",
      " 3   bowling_team      260920 non-null  object\n",
      " 4   over              260920 non-null  int64 \n",
      " 5   ball              260920 non-null  int64 \n",
      " 6   batter            260920 non-null  object\n",
      " 7   bowler            260920 non-null  object\n",
      " 8   non_striker       260920 non-null  object\n",
      " 9   batsman_runs      260920 non-null  int64 \n",
      " 10  extra_runs        260920 non-null  int64 \n",
      " 11  total_runs        260920 non-null  int64 \n",
      " 12  extras_type       14125 non-null   object\n",
      " 13  is_wicket         260920 non-null  int64 \n",
      " 14  player_dismissed  12950 non-null   object\n",
      " 15  dismissal_kind    12950 non-null   object\n",
      " 16  fielder           9354 non-null    object\n",
      "dtypes: int64(8), object(9)\n",
      "memory usage: 33.8+ MB\n"
     ]
    }
   ],
   "source": [
    "deliveries.info()"
   ]
  },
  {
   "cell_type": "code",
   "execution_count": 9,
   "metadata": {},
   "outputs": [
    {
     "data": {
      "text/html": [
       "<div>\n",
       "<style scoped>\n",
       "    .dataframe tbody tr th:only-of-type {\n",
       "        vertical-align: middle;\n",
       "    }\n",
       "\n",
       "    .dataframe tbody tr th {\n",
       "        vertical-align: top;\n",
       "    }\n",
       "\n",
       "    .dataframe thead th {\n",
       "        text-align: right;\n",
       "    }\n",
       "</style>\n",
       "<table border=\"1\" class=\"dataframe\">\n",
       "  <thead>\n",
       "    <tr style=\"text-align: right;\">\n",
       "      <th></th>\n",
       "      <th>id</th>\n",
       "      <th>result_margin</th>\n",
       "      <th>target_runs</th>\n",
       "      <th>target_overs</th>\n",
       "    </tr>\n",
       "  </thead>\n",
       "  <tbody>\n",
       "    <tr>\n",
       "      <th>count</th>\n",
       "      <td>1.095000e+03</td>\n",
       "      <td>1076.000000</td>\n",
       "      <td>1092.000000</td>\n",
       "      <td>1092.000000</td>\n",
       "    </tr>\n",
       "    <tr>\n",
       "      <th>mean</th>\n",
       "      <td>9.048283e+05</td>\n",
       "      <td>17.259294</td>\n",
       "      <td>165.684066</td>\n",
       "      <td>19.759341</td>\n",
       "    </tr>\n",
       "    <tr>\n",
       "      <th>std</th>\n",
       "      <td>3.677402e+05</td>\n",
       "      <td>21.787444</td>\n",
       "      <td>33.427048</td>\n",
       "      <td>1.581108</td>\n",
       "    </tr>\n",
       "    <tr>\n",
       "      <th>min</th>\n",
       "      <td>3.359820e+05</td>\n",
       "      <td>1.000000</td>\n",
       "      <td>43.000000</td>\n",
       "      <td>5.000000</td>\n",
       "    </tr>\n",
       "    <tr>\n",
       "      <th>25%</th>\n",
       "      <td>5.483315e+05</td>\n",
       "      <td>6.000000</td>\n",
       "      <td>146.000000</td>\n",
       "      <td>20.000000</td>\n",
       "    </tr>\n",
       "    <tr>\n",
       "      <th>50%</th>\n",
       "      <td>9.809610e+05</td>\n",
       "      <td>8.000000</td>\n",
       "      <td>166.000000</td>\n",
       "      <td>20.000000</td>\n",
       "    </tr>\n",
       "    <tr>\n",
       "      <th>75%</th>\n",
       "      <td>1.254062e+06</td>\n",
       "      <td>20.000000</td>\n",
       "      <td>187.000000</td>\n",
       "      <td>20.000000</td>\n",
       "    </tr>\n",
       "    <tr>\n",
       "      <th>max</th>\n",
       "      <td>1.426312e+06</td>\n",
       "      <td>146.000000</td>\n",
       "      <td>288.000000</td>\n",
       "      <td>20.000000</td>\n",
       "    </tr>\n",
       "  </tbody>\n",
       "</table>\n",
       "</div>"
      ],
      "text/plain": [
       "                 id  result_margin  target_runs  target_overs\n",
       "count  1.095000e+03    1076.000000  1092.000000   1092.000000\n",
       "mean   9.048283e+05      17.259294   165.684066     19.759341\n",
       "std    3.677402e+05      21.787444    33.427048      1.581108\n",
       "min    3.359820e+05       1.000000    43.000000      5.000000\n",
       "25%    5.483315e+05       6.000000   146.000000     20.000000\n",
       "50%    9.809610e+05       8.000000   166.000000     20.000000\n",
       "75%    1.254062e+06      20.000000   187.000000     20.000000\n",
       "max    1.426312e+06     146.000000   288.000000     20.000000"
      ]
     },
     "execution_count": 9,
     "metadata": {},
     "output_type": "execute_result"
    }
   ],
   "source": [
    "matches.describe()"
   ]
  },
  {
   "cell_type": "code",
   "execution_count": 10,
   "metadata": {},
   "outputs": [
    {
     "data": {
      "text/html": [
       "<div>\n",
       "<style scoped>\n",
       "    .dataframe tbody tr th:only-of-type {\n",
       "        vertical-align: middle;\n",
       "    }\n",
       "\n",
       "    .dataframe tbody tr th {\n",
       "        vertical-align: top;\n",
       "    }\n",
       "\n",
       "    .dataframe thead th {\n",
       "        text-align: right;\n",
       "    }\n",
       "</style>\n",
       "<table border=\"1\" class=\"dataframe\">\n",
       "  <thead>\n",
       "    <tr style=\"text-align: right;\">\n",
       "      <th></th>\n",
       "      <th>season</th>\n",
       "      <th>city</th>\n",
       "      <th>date</th>\n",
       "      <th>match_type</th>\n",
       "      <th>player_of_match</th>\n",
       "      <th>venue</th>\n",
       "      <th>team1</th>\n",
       "      <th>team2</th>\n",
       "      <th>toss_winner</th>\n",
       "      <th>toss_decision</th>\n",
       "      <th>winner</th>\n",
       "      <th>result</th>\n",
       "      <th>super_over</th>\n",
       "      <th>method</th>\n",
       "      <th>umpire1</th>\n",
       "      <th>umpire2</th>\n",
       "    </tr>\n",
       "  </thead>\n",
       "  <tbody>\n",
       "    <tr>\n",
       "      <th>count</th>\n",
       "      <td>1095</td>\n",
       "      <td>1044</td>\n",
       "      <td>1095</td>\n",
       "      <td>1095</td>\n",
       "      <td>1090</td>\n",
       "      <td>1095</td>\n",
       "      <td>1095</td>\n",
       "      <td>1095</td>\n",
       "      <td>1095</td>\n",
       "      <td>1095</td>\n",
       "      <td>1090</td>\n",
       "      <td>1095</td>\n",
       "      <td>1095</td>\n",
       "      <td>21</td>\n",
       "      <td>1095</td>\n",
       "      <td>1095</td>\n",
       "    </tr>\n",
       "    <tr>\n",
       "      <th>unique</th>\n",
       "      <td>17</td>\n",
       "      <td>36</td>\n",
       "      <td>823</td>\n",
       "      <td>8</td>\n",
       "      <td>291</td>\n",
       "      <td>58</td>\n",
       "      <td>19</td>\n",
       "      <td>19</td>\n",
       "      <td>19</td>\n",
       "      <td>2</td>\n",
       "      <td>19</td>\n",
       "      <td>4</td>\n",
       "      <td>2</td>\n",
       "      <td>1</td>\n",
       "      <td>62</td>\n",
       "      <td>62</td>\n",
       "    </tr>\n",
       "    <tr>\n",
       "      <th>top</th>\n",
       "      <td>2013</td>\n",
       "      <td>Mumbai</td>\n",
       "      <td>2017-04-09</td>\n",
       "      <td>League</td>\n",
       "      <td>AB de Villiers</td>\n",
       "      <td>Eden Gardens</td>\n",
       "      <td>Royal Challengers Bangalore</td>\n",
       "      <td>Mumbai Indians</td>\n",
       "      <td>Mumbai Indians</td>\n",
       "      <td>field</td>\n",
       "      <td>Mumbai Indians</td>\n",
       "      <td>wickets</td>\n",
       "      <td>N</td>\n",
       "      <td>D/L</td>\n",
       "      <td>AK Chaudhary</td>\n",
       "      <td>S Ravi</td>\n",
       "    </tr>\n",
       "    <tr>\n",
       "      <th>freq</th>\n",
       "      <td>76</td>\n",
       "      <td>173</td>\n",
       "      <td>2</td>\n",
       "      <td>1029</td>\n",
       "      <td>25</td>\n",
       "      <td>77</td>\n",
       "      <td>135</td>\n",
       "      <td>138</td>\n",
       "      <td>143</td>\n",
       "      <td>704</td>\n",
       "      <td>144</td>\n",
       "      <td>578</td>\n",
       "      <td>1081</td>\n",
       "      <td>21</td>\n",
       "      <td>115</td>\n",
       "      <td>83</td>\n",
       "    </tr>\n",
       "  </tbody>\n",
       "</table>\n",
       "</div>"
      ],
      "text/plain": [
       "       season    city        date match_type player_of_match         venue  \\\n",
       "count    1095    1044        1095       1095            1090          1095   \n",
       "unique     17      36         823          8             291            58   \n",
       "top      2013  Mumbai  2017-04-09     League  AB de Villiers  Eden Gardens   \n",
       "freq       76     173           2       1029              25            77   \n",
       "\n",
       "                              team1           team2     toss_winner  \\\n",
       "count                          1095            1095            1095   \n",
       "unique                           19              19              19   \n",
       "top     Royal Challengers Bangalore  Mumbai Indians  Mumbai Indians   \n",
       "freq                            135             138             143   \n",
       "\n",
       "       toss_decision          winner   result super_over method       umpire1  \\\n",
       "count           1095            1090     1095       1095     21          1095   \n",
       "unique             2              19        4          2      1            62   \n",
       "top            field  Mumbai Indians  wickets          N    D/L  AK Chaudhary   \n",
       "freq             704             144      578       1081     21           115   \n",
       "\n",
       "       umpire2  \n",
       "count     1095  \n",
       "unique      62  \n",
       "top     S Ravi  \n",
       "freq        83  "
      ]
     },
     "execution_count": 10,
     "metadata": {},
     "output_type": "execute_result"
    }
   ],
   "source": [
    "matches.describe(include='object')"
   ]
  },
  {
   "cell_type": "code",
   "execution_count": 11,
   "metadata": {},
   "outputs": [
    {
     "data": {
      "text/html": [
       "<div>\n",
       "<style scoped>\n",
       "    .dataframe tbody tr th:only-of-type {\n",
       "        vertical-align: middle;\n",
       "    }\n",
       "\n",
       "    .dataframe tbody tr th {\n",
       "        vertical-align: top;\n",
       "    }\n",
       "\n",
       "    .dataframe thead th {\n",
       "        text-align: right;\n",
       "    }\n",
       "</style>\n",
       "<table border=\"1\" class=\"dataframe\">\n",
       "  <thead>\n",
       "    <tr style=\"text-align: right;\">\n",
       "      <th></th>\n",
       "      <th>match_id</th>\n",
       "      <th>inning</th>\n",
       "      <th>over</th>\n",
       "      <th>ball</th>\n",
       "      <th>batsman_runs</th>\n",
       "      <th>extra_runs</th>\n",
       "      <th>total_runs</th>\n",
       "      <th>is_wicket</th>\n",
       "    </tr>\n",
       "  </thead>\n",
       "  <tbody>\n",
       "    <tr>\n",
       "      <th>count</th>\n",
       "      <td>2.609200e+05</td>\n",
       "      <td>260920.000000</td>\n",
       "      <td>260920.000000</td>\n",
       "      <td>260920.000000</td>\n",
       "      <td>260920.000000</td>\n",
       "      <td>260920.000000</td>\n",
       "      <td>260920.000000</td>\n",
       "      <td>260920.000000</td>\n",
       "    </tr>\n",
       "    <tr>\n",
       "      <th>mean</th>\n",
       "      <td>9.070665e+05</td>\n",
       "      <td>1.483531</td>\n",
       "      <td>9.197677</td>\n",
       "      <td>3.624486</td>\n",
       "      <td>1.265001</td>\n",
       "      <td>0.067806</td>\n",
       "      <td>1.332807</td>\n",
       "      <td>0.049632</td>\n",
       "    </tr>\n",
       "    <tr>\n",
       "      <th>std</th>\n",
       "      <td>3.679913e+05</td>\n",
       "      <td>0.502643</td>\n",
       "      <td>5.683484</td>\n",
       "      <td>1.814920</td>\n",
       "      <td>1.639298</td>\n",
       "      <td>0.343265</td>\n",
       "      <td>1.626416</td>\n",
       "      <td>0.217184</td>\n",
       "    </tr>\n",
       "    <tr>\n",
       "      <th>min</th>\n",
       "      <td>3.359820e+05</td>\n",
       "      <td>1.000000</td>\n",
       "      <td>0.000000</td>\n",
       "      <td>1.000000</td>\n",
       "      <td>0.000000</td>\n",
       "      <td>0.000000</td>\n",
       "      <td>0.000000</td>\n",
       "      <td>0.000000</td>\n",
       "    </tr>\n",
       "    <tr>\n",
       "      <th>25%</th>\n",
       "      <td>5.483340e+05</td>\n",
       "      <td>1.000000</td>\n",
       "      <td>4.000000</td>\n",
       "      <td>2.000000</td>\n",
       "      <td>0.000000</td>\n",
       "      <td>0.000000</td>\n",
       "      <td>0.000000</td>\n",
       "      <td>0.000000</td>\n",
       "    </tr>\n",
       "    <tr>\n",
       "      <th>50%</th>\n",
       "      <td>9.809670e+05</td>\n",
       "      <td>1.000000</td>\n",
       "      <td>9.000000</td>\n",
       "      <td>4.000000</td>\n",
       "      <td>1.000000</td>\n",
       "      <td>0.000000</td>\n",
       "      <td>1.000000</td>\n",
       "      <td>0.000000</td>\n",
       "    </tr>\n",
       "    <tr>\n",
       "      <th>75%</th>\n",
       "      <td>1.254066e+06</td>\n",
       "      <td>2.000000</td>\n",
       "      <td>14.000000</td>\n",
       "      <td>5.000000</td>\n",
       "      <td>1.000000</td>\n",
       "      <td>0.000000</td>\n",
       "      <td>1.000000</td>\n",
       "      <td>0.000000</td>\n",
       "    </tr>\n",
       "    <tr>\n",
       "      <th>max</th>\n",
       "      <td>1.426312e+06</td>\n",
       "      <td>6.000000</td>\n",
       "      <td>19.000000</td>\n",
       "      <td>11.000000</td>\n",
       "      <td>6.000000</td>\n",
       "      <td>7.000000</td>\n",
       "      <td>7.000000</td>\n",
       "      <td>1.000000</td>\n",
       "    </tr>\n",
       "  </tbody>\n",
       "</table>\n",
       "</div>"
      ],
      "text/plain": [
       "           match_id         inning           over           ball  \\\n",
       "count  2.609200e+05  260920.000000  260920.000000  260920.000000   \n",
       "mean   9.070665e+05       1.483531       9.197677       3.624486   \n",
       "std    3.679913e+05       0.502643       5.683484       1.814920   \n",
       "min    3.359820e+05       1.000000       0.000000       1.000000   \n",
       "25%    5.483340e+05       1.000000       4.000000       2.000000   \n",
       "50%    9.809670e+05       1.000000       9.000000       4.000000   \n",
       "75%    1.254066e+06       2.000000      14.000000       5.000000   \n",
       "max    1.426312e+06       6.000000      19.000000      11.000000   \n",
       "\n",
       "        batsman_runs     extra_runs     total_runs      is_wicket  \n",
       "count  260920.000000  260920.000000  260920.000000  260920.000000  \n",
       "mean        1.265001       0.067806       1.332807       0.049632  \n",
       "std         1.639298       0.343265       1.626416       0.217184  \n",
       "min         0.000000       0.000000       0.000000       0.000000  \n",
       "25%         0.000000       0.000000       0.000000       0.000000  \n",
       "50%         1.000000       0.000000       1.000000       0.000000  \n",
       "75%         1.000000       0.000000       1.000000       0.000000  \n",
       "max         6.000000       7.000000       7.000000       1.000000  "
      ]
     },
     "execution_count": 11,
     "metadata": {},
     "output_type": "execute_result"
    }
   ],
   "source": [
    "deliveries.describe()"
   ]
  },
  {
   "cell_type": "code",
   "execution_count": 12,
   "metadata": {},
   "outputs": [
    {
     "data": {
      "text/html": [
       "<div>\n",
       "<style scoped>\n",
       "    .dataframe tbody tr th:only-of-type {\n",
       "        vertical-align: middle;\n",
       "    }\n",
       "\n",
       "    .dataframe tbody tr th {\n",
       "        vertical-align: top;\n",
       "    }\n",
       "\n",
       "    .dataframe thead th {\n",
       "        text-align: right;\n",
       "    }\n",
       "</style>\n",
       "<table border=\"1\" class=\"dataframe\">\n",
       "  <thead>\n",
       "    <tr style=\"text-align: right;\">\n",
       "      <th></th>\n",
       "      <th>batting_team</th>\n",
       "      <th>bowling_team</th>\n",
       "      <th>batter</th>\n",
       "      <th>bowler</th>\n",
       "      <th>non_striker</th>\n",
       "      <th>extras_type</th>\n",
       "      <th>player_dismissed</th>\n",
       "      <th>dismissal_kind</th>\n",
       "      <th>fielder</th>\n",
       "    </tr>\n",
       "  </thead>\n",
       "  <tbody>\n",
       "    <tr>\n",
       "      <th>count</th>\n",
       "      <td>260920</td>\n",
       "      <td>260920</td>\n",
       "      <td>260920</td>\n",
       "      <td>260920</td>\n",
       "      <td>260920</td>\n",
       "      <td>14125</td>\n",
       "      <td>12950</td>\n",
       "      <td>12950</td>\n",
       "      <td>9354</td>\n",
       "    </tr>\n",
       "    <tr>\n",
       "      <th>unique</th>\n",
       "      <td>19</td>\n",
       "      <td>19</td>\n",
       "      <td>673</td>\n",
       "      <td>530</td>\n",
       "      <td>663</td>\n",
       "      <td>5</td>\n",
       "      <td>629</td>\n",
       "      <td>10</td>\n",
       "      <td>607</td>\n",
       "    </tr>\n",
       "    <tr>\n",
       "      <th>top</th>\n",
       "      <td>Mumbai Indians</td>\n",
       "      <td>Mumbai Indians</td>\n",
       "      <td>V Kohli</td>\n",
       "      <td>R Ashwin</td>\n",
       "      <td>V Kohli</td>\n",
       "      <td>wides</td>\n",
       "      <td>RG Sharma</td>\n",
       "      <td>caught</td>\n",
       "      <td>MS Dhoni</td>\n",
       "    </tr>\n",
       "    <tr>\n",
       "      <th>freq</th>\n",
       "      <td>31437</td>\n",
       "      <td>31505</td>\n",
       "      <td>6236</td>\n",
       "      <td>4679</td>\n",
       "      <td>6067</td>\n",
       "      <td>8380</td>\n",
       "      <td>223</td>\n",
       "      <td>8063</td>\n",
       "      <td>220</td>\n",
       "    </tr>\n",
       "  </tbody>\n",
       "</table>\n",
       "</div>"
      ],
      "text/plain": [
       "          batting_team    bowling_team   batter    bowler non_striker  \\\n",
       "count           260920          260920   260920    260920      260920   \n",
       "unique              19              19      673       530         663   \n",
       "top     Mumbai Indians  Mumbai Indians  V Kohli  R Ashwin     V Kohli   \n",
       "freq             31437           31505     6236      4679        6067   \n",
       "\n",
       "       extras_type player_dismissed dismissal_kind   fielder  \n",
       "count        14125            12950          12950      9354  \n",
       "unique           5              629             10       607  \n",
       "top          wides        RG Sharma         caught  MS Dhoni  \n",
       "freq          8380              223           8063       220  "
      ]
     },
     "execution_count": 12,
     "metadata": {},
     "output_type": "execute_result"
    }
   ],
   "source": [
    "deliveries.describe(include='object')"
   ]
  },
  {
   "cell_type": "code",
   "execution_count": 13,
   "metadata": {},
   "outputs": [],
   "source": [
    "# Date to Year for better EDA\n",
    "matches['year'] = pd.to_datetime(matches['date']).dt.year"
   ]
  },
  {
   "attachments": {},
   "cell_type": "markdown",
   "metadata": {},
   "source": [
    "#### Explore Data"
   ]
  },
  {
   "attachments": {},
   "cell_type": "markdown",
   "metadata": {},
   "source": [
    "##### Explore Data related with Matches"
   ]
  },
  {
   "cell_type": "code",
   "execution_count": 14,
   "metadata": {},
   "outputs": [
    {
     "name": "stdout",
     "output_type": "stream",
     "text": [
      "Total matches played: 1095\n"
     ]
    }
   ],
   "source": [
    "#Number of Matches Played\n",
    "total_matches = matches.shape[0]\n",
    "print(f\"Total matches played: {total_matches}\")"
   ]
  },
  {
   "cell_type": "code",
   "execution_count": 15,
   "metadata": {},
   "outputs": [
    {
     "name": "stdout",
     "output_type": "stream",
     "text": [
      "The dataset includes 17 unique IPL seasons.\n"
     ]
    }
   ],
   "source": [
    "#Number of Seasons Played\n",
    "print(f\"The dataset includes {matches['season'].nunique()} unique IPL seasons.\")"
   ]
  },
  {
   "cell_type": "code",
   "execution_count": null,
   "metadata": {},
   "outputs": [
    {
     "name": "stdout",
     "output_type": "stream",
     "text": [
      "Total number of players: 732\n"
     ]
    }
   ],
   "source": [
    "#Total number of players\n",
    "all_players = pd.concat([deliveries['batter'], deliveries['non_striker'], deliveries['bowler']])\n",
    "total_players = all_players.nunique()\n",
    "print(f\"Total number of players: {total_players}\")"
   ]
  },
  {
   "cell_type": "code",
   "execution_count": 64,
   "metadata": {},
   "outputs": [
    {
     "name": "stdout",
     "output_type": "stream",
     "text": [
      "winner\n",
      "Mumbai Indians                 144\n",
      "Chennai Super Kings            138\n",
      "Kolkata Knight Riders          131\n",
      "Royal Challengers Bangalore    116\n",
      "Rajasthan Royals               112\n",
      "Kings XI Punjab                 88\n",
      "Name: count, dtype: int64\n"
     ]
    },
    {
     "data": {
      "image/png": "[encoded data removed]",
      "text/plain": [
       "<Figure size 640x480 with 1 Axes>"
      ]
     },
     "metadata": {},
     "output_type": "display_data"
    }
   ],
   "source": [
    "#Maximum number of matches won by each team till 2024\n",
    "team_wins = matches['winner'].value_counts()[0:6]\n",
    "print(team_wins)\n",
    "team_wins.plot(kind='bar', title='Matches Won by Each Team (Till 2024)')\n",
    "plt.ylabel('Wins')\n",
    "plt.show()"
   ]
  },
  {
   "cell_type": "code",
   "execution_count": 30,
   "metadata": {},
   "outputs": [
    {
     "name": "stdout",
     "output_type": "stream",
     "text": [
      "Super Over Matches Each Year:\n",
      "   year  Super Overs\n",
      "0  2009            1\n",
      "1  2010            1\n",
      "2  2013            2\n",
      "3  2014            1\n",
      "4  2015            1\n",
      "5  2017            1\n",
      "6  2019            2\n",
      "7  2020            4\n",
      "8  2021            1\n"
     ]
    }
   ],
   "source": [
    "# Super over typically starts from 3rd inning onwards\n",
    "super_over_ids = deliveries[deliveries['inning'] > 2]['match_id'].unique()\n",
    "super_over_matches = matches[matches['id'].isin(super_over_ids)]\n",
    "super_over_per_year = super_over_matches.groupby('year').size().reset_index(name='Super Overs')\n",
    "print(\"Super Over Matches Each Year:\")\n",
    "print(super_over_per_year)\n"
   ]
  },
  {
   "cell_type": "code",
   "execution_count": 31,
   "metadata": {},
   "outputs": [
    {
     "name": "stdout",
     "output_type": "stream",
     "text": [
      "Total number of unique venues IPL matches were played at: 58\n"
     ]
    }
   ],
   "source": [
    "# Additional: Total number of unique venues\n",
    "unique_venues = matches['venue'].nunique()\n",
    "print(f\"Total number of unique venues IPL matches were played at: {unique_venues}\")"
   ]
  },
  {
   "cell_type": "code",
   "execution_count": 32,
   "metadata": {},
   "outputs": [
    {
     "name": "stdout",
     "output_type": "stream",
     "text": [
      "Matches played in each venue:\n",
      "venue\n",
      "Eden Gardens                                                             77\n",
      "Wankhede Stadium                                                         73\n",
      "M Chinnaswamy Stadium                                                    65\n",
      "Feroz Shah Kotla                                                         60\n",
      "Rajiv Gandhi International Stadium, Uppal                                49\n",
      "MA Chidambaram Stadium, Chepauk                                          48\n",
      "Sawai Mansingh Stadium                                                   47\n",
      "Dubai International Cricket Stadium                                      46\n",
      "Wankhede Stadium, Mumbai                                                 45\n",
      "Punjab Cricket Association Stadium, Mohali                               35\n",
      "Sheikh Zayed Stadium                                                     29\n",
      "Sharjah Cricket Stadium                                                  28\n",
      "MA Chidambaram Stadium, Chepauk, Chennai                                 28\n",
      "Narendra Modi Stadium, Ahmedabad                                         24\n",
      "Maharashtra Cricket Association Stadium                                  22\n",
      "Dr DY Patil Sports Academy, Mumbai                                       20\n",
      "Brabourne Stadium, Mumbai                                                17\n",
      "Dr DY Patil Sports Academy                                               17\n",
      "Eden Gardens, Kolkata                                                    16\n",
      "Subrata Roy Sahara Stadium                                               16\n",
      "Arun Jaitley Stadium, Delhi                                              16\n",
      "Rajiv Gandhi International Stadium                                       15\n",
      "M.Chinnaswamy Stadium                                                    15\n",
      "Kingsmead                                                                15\n",
      "Arun Jaitley Stadium                                                     14\n",
      "Bharat Ratna Shri Atal Bihari Vajpayee Ekana Cricket Stadium, Lucknow    14\n",
      "M Chinnaswamy Stadium, Bengaluru                                         14\n",
      "Rajiv Gandhi International Stadium, Uppal, Hyderabad                     13\n",
      "Maharashtra Cricket Association Stadium, Pune                            13\n",
      "Dr. Y.S. Rajasekhara Reddy ACA-VDCA Cricket Stadium                      13\n",
      "SuperSport Park                                                          12\n",
      "Sardar Patel Stadium, Motera                                             12\n",
      "Punjab Cricket Association IS Bindra Stadium, Mohali                     11\n",
      "Sawai Mansingh Stadium, Jaipur                                           10\n",
      "Saurashtra Cricket Association Stadium                                   10\n",
      "Brabourne Stadium                                                        10\n",
      "Punjab Cricket Association IS Bindra Stadium                             10\n",
      "Himachal Pradesh Cricket Association Stadium                              9\n",
      "MA Chidambaram Stadium                                                    9\n",
      "Holkar Cricket Stadium                                                    9\n",
      "New Wanderers Stadium                                                     8\n",
      "Zayed Cricket Stadium, Abu Dhabi                                          8\n",
      "JSCA International Stadium Complex                                        7\n",
      "Barabati Stadium                                                          7\n",
      "St George's Park                                                          7\n",
      "Newlands                                                                  7\n",
      "Shaheed Veer Narayan Singh International Stadium                          6\n",
      "Nehru Stadium                                                             5\n",
      "Punjab Cricket Association IS Bindra Stadium, Mohali, Chandigarh          5\n",
      "Maharaja Yadavindra Singh International Cricket Stadium, Mullanpur        5\n",
      "Green Park                                                                4\n",
      "Himachal Pradesh Cricket Association Stadium, Dharamsala                  4\n",
      "Vidarbha Cricket Association Stadium, Jamtha                              3\n",
      "De Beers Diamond Oval                                                     3\n",
      "Buffalo Park                                                              3\n",
      "Barsapara Cricket Stadium, Guwahati                                       3\n",
      "OUTsurance Oval                                                           2\n",
      "Dr. Y.S. Rajasekhara Reddy ACA-VDCA Cricket Stadium, Visakhapatnam        2\n",
      "Name: count, dtype: int64\n"
     ]
    }
   ],
   "source": [
    "#Matches played in each venue\n",
    "df_venue_counts = matches['venue'].value_counts()\n",
    "print(\"Matches played in each venue:\")\n",
    "print(df_venue_counts)"
   ]
  },
  {
   "attachments": {},
   "cell_type": "markdown",
   "metadata": {},
   "source": [
    "##### Explore Data related with Players (Batsman, Bowler & All-Rounder)"
   ]
  },
  {
   "cell_type": "code",
   "execution_count": 17,
   "metadata": {},
   "outputs": [
    {
     "name": "stdout",
     "output_type": "stream",
     "text": [
      "Number of Batsmen: 673\n"
     ]
    }
   ],
   "source": [
    "#Number of Batsmen\n",
    "batsmen = deliveries['batter'].nunique()\n",
    "print(f\"Number of Batsmen: {batsmen}\")"
   ]
  },
  {
   "cell_type": "code",
   "execution_count": 33,
   "metadata": {},
   "outputs": [
    {
     "data": {
      "image/png": "[encoded data removed]",
      "text/plain": [
       "<Figure size 640x480 with 1 Axes>"
      ]
     },
     "metadata": {},
     "output_type": "display_data"
    }
   ],
   "source": [
    "#Most runs by a player till 2024\n",
    "top_batters = deliveries.groupby('batter')['batsman_runs'].sum().sort_values(ascending=False).head(10)\n",
    "top_batters.plot(kind='bar', title='Top Run Scorers (Till 2024)')\n",
    "plt.ylabel('Runs')\n",
    "plt.show()"
   ]
  },
  {
   "cell_type": "code",
   "execution_count": 25,
   "metadata": {},
   "outputs": [
    {
     "name": "stdout",
     "output_type": "stream",
     "text": [
      "Top scorer each year:\n",
      "      year         batter  batsman_runs\n",
      "115   2008       SE Marsh           616\n",
      "229   2009      ML Hayden           572\n",
      "446   2010   SR Tendulkar           618\n",
      "502   2011       CH Gayle           608\n",
      "684   2012       CH Gayle           733\n",
      "910   2013     MEK Hussey           733\n",
      "1088  2014     RV Uthappa           660\n",
      "1148  2015      DA Warner           562\n",
      "1383  2016        V Kohli           973\n",
      "1422  2017      DA Warner           641\n",
      "1594  2018  KS Williamson           735\n",
      "1694  2019      DA Warner           692\n",
      "1866  2020       KL Rahul           676\n",
      "2051  2021     RD Gaikwad           635\n",
      "2144  2022     JC Buttler           863\n",
      "2423  2023   Shubman Gill           890\n",
      "2606  2024        V Kohli           741\n"
     ]
    },
    {
     "data": {
      "image/png": "[encoded data removed]",
      "text/plain": [
       "<Figure size 1200x600 with 1 Axes>"
      ]
     },
     "metadata": {},
     "output_type": "display_data"
    }
   ],
   "source": [
    "#Highest run scorer each year\n",
    "deliveries_with_year = deliveries.merge(matches[['id', 'year']], left_on='match_id', right_on='id')\n",
    "yearly_batters = deliveries_with_year.groupby(['year', 'batter'])['batsman_runs'].sum().reset_index()\n",
    "top_each_year = yearly_batters.sort_values(['year', 'batsman_runs'], ascending=[True, False]).groupby('year').head(1)\n",
    "print(\"Top scorer each year:\")\n",
    "print(top_each_year)\n",
    "\n",
    "# Plotting the top run scorer each year\n",
    "plt.figure(figsize=(12, 6))\n",
    "sns.barplot(data=top_each_year, x='year', y='batsman_runs', hue='batter', dodge=False, palette='viridis')\n",
    "\n",
    "plt.title('Top Run Scorer Each Year', fontsize=16)\n",
    "plt.xlabel('Year', fontsize=12)\n",
    "plt.ylabel('Runs Scored', fontsize=12)\n",
    "plt.xticks(rotation=45)\n",
    "plt.legend(title='Batter', bbox_to_anchor=(1.05, 1), loc='upper left')\n",
    "plt.tight_layout()\n",
    "plt.show()\n"
   ]
  },
  {
   "cell_type": "code",
   "execution_count": 28,
   "metadata": {},
   "outputs": [
    {
     "name": "stdout",
     "output_type": "stream",
     "text": [
      "Top strike rates (min 15 matches with min 10 balls each):\n",
      "             batter  total_runs  total_balls  matches_played  strike_rate\n",
      "464         TM Head         737          419              15   175.894988\n",
      "424       SP Narine        1223          698              34   175.214900\n",
      "27       AD Russell        2315         1346              68   171.991085\n",
      "459        TH David         587          349              21   168.194842\n",
      "156       H Klaasen         928          563              23   164.831261\n",
      "237  LS Livingstone         856          526              23   162.737643\n",
      "295        N Pooran        1646         1020              46   161.372549\n",
      "91        CH Morris         428          268              16   159.701493\n",
      "152      GJ Maxwell        2500         1578              68   158.428390\n",
      "326      PJ Cummins         421          266              15   158.270677\n"
     ]
    }
   ],
   "source": [
    "#Batter strike rate with at least 15 matches and 10+ balls faced per match\n",
    "deliveries_with_year['ball_count'] = 1\n",
    "batter_match_stats = deliveries_with_year.groupby(['batter', 'match_id']).agg(\n",
    "    total_runs=('batsman_runs', 'sum'),\n",
    "    balls_faced=('ball_count', 'sum')\n",
    ").reset_index()\n",
    "\n",
    "# Filter players who faced at least 10 balls in a match\n",
    "batter_match_stats = batter_match_stats[batter_match_stats['balls_faced'] >= 10]\n",
    "\n",
    "# Count qualifying matches per batter\n",
    "qualified_matches = batter_match_stats.groupby('batter').size().reset_index(name='matches_played')\n",
    "\n",
    "# Aggregate total runs and balls faced across those matches\n",
    "total_stats = batter_match_stats.groupby('batter').agg(\n",
    "    total_runs=('total_runs', 'sum'),\n",
    "    total_balls=('balls_faced', 'sum')\n",
    ").reset_index()\n",
    "\n",
    "# Merge both to compute strike rate\n",
    "batter_sr = pd.merge(total_stats, qualified_matches, on='batter')\n",
    "batter_sr = batter_sr[batter_sr['matches_played'] >= 15]\n",
    "batter_sr['strike_rate'] = (batter_sr['total_runs'] / batter_sr['total_balls']) * 100\n",
    "print(\"Top strike rates (min 15 matches with min 10 balls each):\")\n",
    "print(batter_sr.sort_values('strike_rate', ascending=False).head(10))"
   ]
  },
  {
   "cell_type": "code",
   "execution_count": null,
   "metadata": {},
   "outputs": [
    {
     "name": "stdout",
     "output_type": "stream",
     "text": [
      "Top 10 Most Consistent Batters (Min 50 Matches):\n",
      "           batter       mean        std  count  consistency_score\n",
      "454      R Dravid  26.512195  19.519692     82           1.358228\n",
      "470     RA Jadeja  16.438889  12.434932    180           1.321993\n",
      "261     JP Duminy  27.053333  20.466118     75           1.321860\n",
      "563  SR Tendulkar  29.923077  22.656537     78           1.320726\n",
      "188  F du Plessis  33.123188  25.326900    138           1.307826\n",
      "289      KL Rahul  38.434426  29.442755    122           1.305395\n",
      "562     SPD Smith  26.827957  20.652205     93           1.299036\n",
      "374      MS Dhoni  22.995614  18.281812    228           1.257841\n",
      "542      SE Marsh  36.072464  29.014864     69           1.243241\n",
      "490       RR Pant  29.972727  24.226931    110           1.237166\n"
     ]
    },
    {
     "data": {
      "image/png": "[encoded data removed]",
      "text/plain": [
       "<Figure size 1200x600 with 1 Axes>"
      ]
     },
     "metadata": {},
     "output_type": "display_data"
    }
   ],
   "source": [
    "# Most consistent IPL batters with at least 50 matches played\n",
    "\n",
    "# Group match-wise total score per batter\n",
    "batter_scores = deliveries.groupby(['batter', 'match_id'])['batsman_runs'].sum().reset_index()\n",
    "\n",
    "# Aggregate stats per batter\n",
    "batter_summary = batter_scores.groupby('batter')['batsman_runs'].agg(['mean', 'std', 'count']).reset_index()\n",
    "\n",
    "# Filter: players with at least 50 innings\n",
    "batter_summary_50 = batter_summary[batter_summary['count'] >= 50]\n",
    "\n",
    "# Sort: highest consistency score (mean / std)\n",
    "batter_summary_50['consistency_score'] = batter_summary_50['mean'] / batter_summary_50['std']\n",
    "most_consistent_50 = batter_summary_50.sort_values('consistency_score', ascending=False).head(10)\n",
    "\n",
    "print(\"Top 10 Most Consistent Batters (Min 50 Matches):\")\n",
    "print(most_consistent_50[['batter', 'mean', 'std', 'count', 'consistency_score']])\n",
    "\n",
    "# Plot bar chart\n",
    "plt.figure(figsize=(12, 6))\n",
    "plt.barh(most_consistent_50['batter'], most_consistent_50['consistency_score'], color='skyblue')\n",
    "plt.xlabel('Consistency Score (Mean / Std Deviation)')\n",
    "plt.title('Top 10 Most Consistent IPL Batters (Min 50 Matches)')\n",
    "plt.gca().invert_yaxis()\n",
    "plt.tight_layout()\n",
    "plt.show()"
   ]
  },
  {
   "cell_type": "code",
   "execution_count": 36,
   "metadata": {},
   "outputs": [
    {
     "name": "stdout",
     "output_type": "stream",
     "text": [
      "Elite IPL Finishers in Death Overs (16–20):\n",
      "\n",
      "             batter  batsman_runs  ball  strike_rate  matches_played\n",
      "27   AB de Villiers          1868   867   215.455594             170\n",
      "444         RR Pant           923   480   192.291667             110\n",
      "109        CH Gayle           581   304   191.118421             141\n",
      "217      JC Buttler           596   319   186.833856             106\n",
      "515       SV Samson           780   430   181.395349             162\n",
      "34       AD Russell          1324   739   179.161028             104\n",
      "567         V Kohli          1469   824   178.276699             244\n",
      "551        TH David           540   308   175.324675              35\n"
     ]
    },
    {
     "data": {
      "image/png": "[encoded data removed]",
      "text/plain": [
       "<Figure size 1200x600 with 1 Axes>"
      ]
     },
     "metadata": {},
     "output_type": "display_data"
    }
   ],
   "source": [
    "# Best IPL finishers in death overs (16–20) with specific criteria\n",
    "\n",
    "# Step 1: Calculate number of matches played by each batter\n",
    "batter_matches = deliveries.groupby('batter')['match_id'].nunique().reset_index(name='matches_played')\n",
    "\n",
    "# Step 2: Filter deliveries for death overs (overs 16 to 20)\n",
    "death_overs = deliveries[deliveries['over'] >= 15]\n",
    "\n",
    "# Step 3: Aggregate batsman runs and balls faced\n",
    "death_stats = death_overs.groupby('batter').agg({\n",
    "    'batsman_runs': 'sum',\n",
    "    'ball': 'count'\n",
    "}).reset_index()\n",
    "\n",
    "# Step 4: Calculate strike rate\n",
    "death_stats['strike_rate'] = (death_stats['batsman_runs'] / death_stats['ball']) * 100\n",
    "\n",
    "# Step 5: Merge with match count info\n",
    "death_stats = pd.merge(death_stats, batter_matches, on='batter', how='left')\n",
    "\n",
    "# Step 6: Apply filters\n",
    "elite_finishers = death_stats[\n",
    "    (death_stats['ball'] >= 300) &\n",
    "    (death_stats['strike_rate'] > 175) &\n",
    "    (death_stats['batsman_runs'] > 400) &\n",
    "    (death_stats['matches_played'] > 20)\n",
    "]\n",
    "\n",
    "# Step 7: Sort by strike rate\n",
    "elite_finishers_sorted = elite_finishers.sort_values('strike_rate', ascending=False)\n",
    "\n",
    "# Step 8: Display results\n",
    "print(\"Elite IPL Finishers in Death Overs (16–20):\\n\")\n",
    "print(elite_finishers_sorted[['batter', 'batsman_runs', 'ball', 'strike_rate', 'matches_played']])\n",
    "\n",
    "plt.figure(figsize=(12, 6))\n",
    "plt.barh(elite_finishers_sorted['batter'], elite_finishers_sorted['strike_rate'], color='orange')\n",
    "plt.xlabel('Strike Rate in Death Overs (16–20)')\n",
    "plt.title('Elite IPL Finishers (300+ balls, 400+ runs, SR > 175, 20+ matches)')\n",
    "plt.gca().invert_yaxis()\n",
    "plt.tight_layout()\n",
    "plt.show()\n"
   ]
  },
  {
   "cell_type": "code",
   "execution_count": 54,
   "metadata": {},
   "outputs": [
    {
     "data": {
      "image/png": "[encoded data removed]",
      "text/plain": [
       "<Figure size 1200x600 with 1 Axes>"
      ]
     },
     "metadata": {},
     "output_type": "display_data"
    }
   ],
   "source": [
    "# Step 1: Calculate number of matches played per batter\n",
    "batter_matches = deliveries.groupby('batter')['match_id'].nunique().reset_index(name='matches_played')\n",
    "\n",
    "# Step 2: Filter for powerplay overs (0–5)\n",
    "powerplay = deliveries[deliveries['over'] < 6]\n",
    "\n",
    "# Step 3: Aggregate stats in powerplay\n",
    "pp_stats = powerplay.groupby('batter').agg({\n",
    "    'batsman_runs': 'sum',\n",
    "    'ball': 'count'\n",
    "}).reset_index()\n",
    "\n",
    "# Step 4: Calculate strike rate\n",
    "pp_stats['strike_rate'] = (pp_stats['batsman_runs'] / pp_stats['ball']) * 100\n",
    "\n",
    "# Step 5: Merge with match counts\n",
    "pp_stats = pd.merge(pp_stats, batter_matches, on='batter', how='left')\n",
    "\n",
    "# Step 6: Apply all filters\n",
    "# - Min 200 balls faced\n",
    "# - Min 400 runs\n",
    "# - Strike rate > 175\n",
    "# - Min 25 matches\n",
    "pp_top_filtered = pp_stats[\n",
    "    (pp_stats['ball'] >= 150) &\n",
    "    (pp_stats['batsman_runs'] > 250) &\n",
    "    (pp_stats['strike_rate'] > 140) &\n",
    "    (pp_stats['matches_played'] > 10)\n",
    "]\n",
    "\n",
    "# Step 7: Sort by strike rate and get top 10\n",
    "pp_top_10 = pp_top_filtered.sort_values('strike_rate', ascending=False).head(10)\n",
    "\n",
    "# Show final result\n",
    "pp_top_10[['batter', 'batsman_runs', 'ball', 'strike_rate', 'matches_played']]\n",
    "\n",
    "# Plot the filtered powerplay top 10 batters\n",
    "plt.figure(figsize=(12, 6))\n",
    "plt.barh(pp_top_10['batter'], pp_top_10['strike_rate'], color='teal')\n",
    "plt.xlabel('Strike Rate in Powerplay (Overs 1–6)')\n",
    "plt.title('Top Powerplay Batsmen\\n(150+ Balls, 250+ Runs, SR > 140, 10+ Matches)')\n",
    "plt.gca().invert_yaxis()\n",
    "plt.tight_layout()\n",
    "plt.show()\n",
    "\n"
   ]
  },
  {
   "cell_type": "code",
   "execution_count": 30,
   "metadata": {},
   "outputs": [
    {
     "name": "stdout",
     "output_type": "stream",
     "text": [
      "Total number of fours hit: 29850\n",
      "Total number of sixes hit: 13051\n"
     ]
    }
   ],
   "source": [
    "# Count of 4s and 6s\n",
    "num_fours = deliveries[deliveries['batsman_runs'] == 4].shape[0]\n",
    "num_sixes = deliveries[deliveries['batsman_runs'] == 6].shape[0]\n",
    "\n",
    "print(f\"Total number of fours hit: {num_fours}\")\n",
    "print(f\"Total number of sixes hit: {num_sixes}\")\n"
   ]
  },
  {
   "cell_type": "code",
   "execution_count": 61,
   "metadata": {},
   "outputs": [
    {
     "name": "stdout",
     "output_type": "stream",
     "text": [
      "Top six-hitting batter per season:\n",
      "\n",
      "    year           batter  Sixes\n",
      "0   2008    ST Jayasuriya     31\n",
      "1   2009     AC Gilchrist     29\n",
      "2   2010       RV Uthappa     27\n",
      "3   2011         CH Gayle     44\n",
      "4   2012         CH Gayle     59\n",
      "5   2013         CH Gayle     52\n",
      "6   2014       GJ Maxwell     36\n",
      "7   2015         CH Gayle     38\n",
      "8   2016          V Kohli     38\n",
      "9   2017        DA Warner     26\n",
      "10  2018          RR Pant     37\n",
      "11  2019       AD Russell     52\n",
      "12  2020     Ishan Kishan     30\n",
      "13  2021         KL Rahul     30\n",
      "14  2022       JC Buttler     45\n",
      "15  2023     F du Plessis     36\n",
      "16  2024  Abhishek Sharma     42\n"
     ]
    },
    {
     "data": {
      "image/png": "[encoded data removed]",
      "text/plain": [
       "<Figure size 1200x600 with 1 Axes>"
      ]
     },
     "metadata": {},
     "output_type": "display_data"
    }
   ],
   "source": [
    "#  Filter only sixes\n",
    "sixes = deliveries_with_year[deliveries_with_year['batsman_runs'] == 6]\n",
    "\n",
    "#  Group by year and batter, count sixes\n",
    "sixes_per_batter = sixes.groupby(['year', 'batter']).size().reset_index(name='Sixes')\n",
    "top_six_hitters = sixes_per_batter.sort_values(['year', 'Sixes'], ascending=[True, False]) \\\n",
    "                                   .groupby('year').head(1).reset_index(drop=True)\n",
    "\n",
    "print(\"Top six-hitting batter per season:\\n\")\n",
    "print(top_six_hitters)\n",
    "\n",
    "plt.figure(figsize=(12, 6))\n",
    "sns.barplot(data=top_six_hitters, x='year', y='Sixes', hue='batter', dodge=False, palette='tab20')\n",
    "\n",
    "\n",
    "plt.title(\"Top Six-Hitting Batter Per Season\", fontsize=16)\n",
    "plt.xlabel(\"Season\", fontsize=12)\n",
    "plt.ylabel(\"Number of Sixes\", fontsize=12)\n",
    "plt.xticks(rotation=45)\n",
    "plt.legend(title=\"Batter\", bbox_to_anchor=(1.05, 1), loc='upper left')\n",
    "plt.tight_layout()\n",
    "plt.show()\n"
   ]
  },
  {
   "cell_type": "code",
   "execution_count": 62,
   "metadata": {},
   "outputs": [
    {
     "name": "stdout",
     "output_type": "stream",
     "text": [
      "Top four-hitting batter per season:\n",
      "\n",
      "    year        batter  Fours\n",
      "0   2008     G Gambhir     68\n",
      "1   2009     ML Hayden     60\n",
      "2   2010  SR Tendulkar     86\n",
      "3   2011  SR Tendulkar     67\n",
      "4   2012     AM Rahane     73\n",
      "5   2013    MEK Hussey     81\n",
      "6   2014    RV Uthappa     74\n",
      "7   2015     DA Warner     65\n",
      "8   2016     DA Warner     88\n",
      "9   2017     DA Warner     63\n",
      "10  2018       RR Pant     68\n",
      "11  2019      S Dhawan     64\n",
      "12  2020      S Dhawan     67\n",
      "13  2021    RD Gaikwad     64\n",
      "14  2022    JC Buttler     84\n",
      "15  2023  Shubman Gill     85\n",
      "16  2024       TM Head     64\n"
     ]
    },
    {
     "data": {
      "image/png": "[encoded data removed]",
      "text/plain": [
       "<Figure size 1200x600 with 1 Axes>"
      ]
     },
     "metadata": {},
     "output_type": "display_data"
    }
   ],
   "source": [
    "#  Filter only fours\n",
    "fours = deliveries_with_year[deliveries_with_year['batsman_runs'] == 4]\n",
    "\n",
    "#  Group by year and batter, count fours\n",
    "fours_per_batter = fours.groupby(['year', 'batter']).size().reset_index(name='Fours')\n",
    "\n",
    "# Get top batter per season\n",
    "top_four_hitters = fours_per_batter.sort_values(['year', 'Fours'], ascending=[True, False]) \\\n",
    "                                   .groupby('year').head(1).reset_index(drop=True)\n",
    "print(\"Top four-hitting batter per season:\\n\")\n",
    "print(top_four_hitters)\n",
    "\n",
    "plt.figure(figsize=(12, 6))\n",
    "sns.barplot(data=top_four_hitters, x='year', y='Fours', hue='batter', dodge=False, palette='Set2')\n",
    "\n",
    "plt.title(\"Top Four-Hitting Batter Per Season\", fontsize=16)\n",
    "plt.xlabel(\"Season\", fontsize=12)\n",
    "plt.ylabel(\"Number of Fours\", fontsize=12)\n",
    "plt.xticks(rotation=45)\n",
    "plt.legend(title=\"Batter\", bbox_to_anchor=(1.05, 1), loc='upper left')\n",
    "plt.tight_layout()\n",
    "plt.show()\n"
   ]
  },
  {
   "cell_type": "code",
   "execution_count": 18,
   "metadata": {},
   "outputs": [
    {
     "name": "stdout",
     "output_type": "stream",
     "text": [
      "Number of Bowlers: 530\n"
     ]
    }
   ],
   "source": [
    "#Number of Bowlers\n",
    "bowlers = deliveries['bowler'].nunique()\n",
    "print(f\"Number of Bowlers: {bowlers}\")"
   ]
  },
  {
   "cell_type": "code",
   "execution_count": 39,
   "metadata": {},
   "outputs": [
    {
     "name": "stdout",
     "output_type": "stream",
     "text": [
      "bowler\n",
      "YS Chahal     213\n",
      "DJ Bravo      207\n",
      "PP Chawla     201\n",
      "SP Narine     200\n",
      "R Ashwin      198\n",
      "B Kumar       195\n",
      "SL Malinga    188\n",
      "A Mishra      183\n",
      "JJ Bumrah     182\n",
      "RA Jadeja     169\n",
      "dtype: int64\n"
     ]
    },
    {
     "data": {
      "image/png": "[encoded data removed]",
      "text/plain": [
       "<Figure size 640x480 with 1 Axes>"
      ]
     },
     "metadata": {},
     "output_type": "display_data"
    }
   ],
   "source": [
    "#Most wickets till 2024\n",
    "wickets = deliveries[deliveries['player_dismissed'].notnull()]\n",
    "most_wickets = wickets.groupby('bowler').size().sort_values(ascending=False).head(10)\n",
    "print(most_wickets)\n",
    "most_wickets.plot(kind='bar', title='Top Wicket Takers (Till 2024)')\n",
    "plt.ylabel('Wickets')\n",
    "plt.show()"
   ]
  },
  {
   "cell_type": "code",
   "execution_count": 40,
   "metadata": {},
   "outputs": [
    {
     "name": "stdout",
     "output_type": "stream",
     "text": [
      "Top wicket taker each year:\n",
      "      year         bowler  wickets\n",
      "77    2008  Sohail Tanvir       24\n",
      "157   2009       RP Singh       26\n",
      "248   2010        PP Ojha       22\n",
      "375   2011     SL Malinga       30\n",
      "447   2012       M Morkel       30\n",
      "519   2013       DJ Bravo       34\n",
      "650   2014      MM Sharma       26\n",
      "708   2015       DJ Bravo       28\n",
      "791   2016        B Kumar       24\n",
      "879   2017        B Kumar       28\n",
      "962   2018         AJ Tye       28\n",
      "1077  2019       K Rabada       29\n",
      "1161  2020       K Rabada       32\n",
      "1232  2021       HV Patel       35\n",
      "1402  2022      YS Chahal       29\n",
      "1469  2023      MM Sharma       31\n",
      "1542  2024       HV Patel       30\n"
     ]
    },
    {
     "data": {
      "image/png": "[encoded data removed]",
      "text/plain": [
       "<Figure size 1200x600 with 1 Axes>"
      ]
     },
     "metadata": {},
     "output_type": "display_data"
    }
   ],
   "source": [
    "#Highest wicket taker each year\n",
    "yearly_wickets = deliveries_with_year[deliveries_with_year['player_dismissed'].notnull()]\n",
    "yearly_wkts = yearly_wickets.groupby(['year', 'bowler']).size().reset_index(name='wickets')\n",
    "top_wkts_year = yearly_wkts.sort_values(['year', 'wickets'], ascending=[True, False]).groupby('year').head(1)\n",
    "print(\"Top wicket taker each year:\")\n",
    "print(top_wkts_year)\n",
    "\n",
    "# Plotting the top wicket taker each year\n",
    "plt.figure(figsize=(12, 6))\n",
    "sns.barplot(data=top_wkts_year, x='year', y='wickets', hue='bowler', dodge=False, palette='magma')\n",
    "\n",
    "plt.title('Top Wicket Taker Each Year', fontsize=16)\n",
    "plt.xlabel('Year', fontsize=12)\n",
    "plt.ylabel('Wickets Taken', fontsize=12)\n",
    "plt.xticks(rotation=45)\n",
    "plt.legend(title='Bowler', bbox_to_anchor=(1.05, 1), loc='upper left')\n",
    "plt.tight_layout()\n",
    "plt.show()\n"
   ]
  },
  {
   "cell_type": "code",
   "execution_count": 41,
   "metadata": {},
   "outputs": [
    {
     "name": "stdout",
     "output_type": "stream",
     "text": [
      "Worst overs (max runs conceded):\n",
      "       match_id  over          bowler  total_runs\n",
      "32158   1254076    19        HV Patel          37\n",
      "8581     501247     2  P Parameswaran          37\n",
      "34286   1304060    15         DR Sams          35\n",
      "5702     419139    12       RS Bopara          33\n",
      "17587    734047     5         P Awana          33\n"
     ]
    }
   ],
   "source": [
    "#Maximum runs conceded in an over\n",
    "worst_over = deliveries.groupby(['match_id', 'over', 'bowler'])['total_runs'].sum().reset_index()\n",
    "worst_over_sorted = worst_over.sort_values(by='total_runs', ascending=False).head(5)\n",
    "print(\"Worst overs (max runs conceded):\")\n",
    "print(worst_over_sorted)"
   ]
  },
  {
   "cell_type": "code",
   "execution_count": 44,
   "metadata": {},
   "outputs": [
    {
     "name": "stdout",
     "output_type": "stream",
     "text": [
      "Most economical bowlers (min 15 matches):\n",
      "                   economy\n",
      "bowler                    \n",
      "A Kumble          6.646999\n",
      "M Muralitharan    6.698292\n",
      "J Yadav           6.738693\n",
      "SP Narine         6.761216\n",
      "RE van der Merwe  6.791209\n",
      "DW Steyn          6.791411\n",
      "DL Vettori        6.833121\n",
      "Rashid Khan       6.907963\n",
      "J Botha           6.922426\n",
      "MJ Santner        6.940541\n"
     ]
    }
   ],
   "source": [
    "#Most economical bowler (min 15 matches -> Almost a season)\n",
    "bowler_stats = deliveries.groupby('bowler').agg(\n",
    "    balls=('ball', 'count'),\n",
    "    runs=('total_runs', 'sum'),\n",
    "    matches=('match_id', pd.Series.nunique)\n",
    ")\n",
    "bowler_stats['economy'] = bowler_stats['runs'] / (bowler_stats['balls'] / 6)\n",
    "bowler_stats = bowler_stats[bowler_stats['matches'] >= 15].sort_values('economy').head(10)\n",
    "print(\"Most economical bowlers (min 15 matches):\")\n",
    "print(bowler_stats[['economy']])"
   ]
  },
  {
   "cell_type": "code",
   "execution_count": null,
   "metadata": {},
   "outputs": [],
   "source": []
  },
  {
   "cell_type": "code",
   "execution_count": 19,
   "metadata": {},
   "outputs": [
    {
     "name": "stdout",
     "output_type": "stream",
     "text": [
      "Number of All rounders: 471\n"
     ]
    }
   ],
   "source": [
    "#Number of All-rounders\n",
    "bat_set = set(deliveries['batter'].unique())\n",
    "bowl_set = set(deliveries['bowler'].unique())\n",
    "all_rounders = bat_set.intersection(bowl_set)\n",
    "print(f\"Number of All rounders: {len(all_rounders)}\")"
   ]
  },
  {
   "cell_type": "code",
   "execution_count": 63,
   "metadata": {},
   "outputs": [
    {
     "data": {
      "text/html": [
       "<div>\n",
       "<style scoped>\n",
       "    .dataframe tbody tr th:only-of-type {\n",
       "        vertical-align: middle;\n",
       "    }\n",
       "\n",
       "    .dataframe tbody tr th {\n",
       "        vertical-align: top;\n",
       "    }\n",
       "\n",
       "    .dataframe thead th {\n",
       "        text-align: right;\n",
       "    }\n",
       "</style>\n",
       "<table border=\"1\" class=\"dataframe\">\n",
       "  <thead>\n",
       "    <tr style=\"text-align: right;\">\n",
       "      <th></th>\n",
       "      <th>player</th>\n",
       "      <th>runs</th>\n",
       "      <th>wickets</th>\n",
       "      <th>total_contrib</th>\n",
       "    </tr>\n",
       "  </thead>\n",
       "  <tbody>\n",
       "    <tr>\n",
       "      <th>291</th>\n",
       "      <td>RA Jadeja</td>\n",
       "      <td>2959</td>\n",
       "      <td>160</td>\n",
       "      <td>6159</td>\n",
       "    </tr>\n",
       "    <tr>\n",
       "      <th>338</th>\n",
       "      <td>SK Raina</td>\n",
       "      <td>5536</td>\n",
       "      <td>25</td>\n",
       "      <td>6036</td>\n",
       "    </tr>\n",
       "    <tr>\n",
       "      <th>348</th>\n",
       "      <td>SR Watson</td>\n",
       "      <td>3880</td>\n",
       "      <td>92</td>\n",
       "      <td>5720</td>\n",
       "    </tr>\n",
       "    <tr>\n",
       "      <th>95</th>\n",
       "      <td>DJ Bravo</td>\n",
       "      <td>1560</td>\n",
       "      <td>183</td>\n",
       "      <td>5220</td>\n",
       "    </tr>\n",
       "    <tr>\n",
       "      <th>347</th>\n",
       "      <td>SP Narine</td>\n",
       "      <td>1534</td>\n",
       "      <td>180</td>\n",
       "      <td>5134</td>\n",
       "    </tr>\n",
       "    <tr>\n",
       "      <th>176</th>\n",
       "      <td>KA Pollard</td>\n",
       "      <td>3437</td>\n",
       "      <td>69</td>\n",
       "      <td>4817</td>\n",
       "    </tr>\n",
       "    <tr>\n",
       "      <th>25</th>\n",
       "      <td>AD Russell</td>\n",
       "      <td>2488</td>\n",
       "      <td>115</td>\n",
       "      <td>4788</td>\n",
       "    </tr>\n",
       "    <tr>\n",
       "      <th>269</th>\n",
       "      <td>PP Chawla</td>\n",
       "      <td>624</td>\n",
       "      <td>192</td>\n",
       "      <td>4464</td>\n",
       "    </tr>\n",
       "    <tr>\n",
       "      <th>276</th>\n",
       "      <td>R Ashwin</td>\n",
       "      <td>800</td>\n",
       "      <td>181</td>\n",
       "      <td>4420</td>\n",
       "    </tr>\n",
       "    <tr>\n",
       "      <th>406</th>\n",
       "      <td>YS Chahal</td>\n",
       "      <td>37</td>\n",
       "      <td>205</td>\n",
       "      <td>4137</td>\n",
       "    </tr>\n",
       "  </tbody>\n",
       "</table>\n",
       "</div>"
      ],
      "text/plain": [
       "         player  runs  wickets  total_contrib\n",
       "291   RA Jadeja  2959      160           6159\n",
       "338    SK Raina  5536       25           6036\n",
       "348   SR Watson  3880       92           5720\n",
       "95     DJ Bravo  1560      183           5220\n",
       "347   SP Narine  1534      180           5134\n",
       "176  KA Pollard  3437       69           4817\n",
       "25   AD Russell  2488      115           4788\n",
       "269   PP Chawla   624      192           4464\n",
       "276    R Ashwin   800      181           4420\n",
       "406   YS Chahal    37      205           4137"
      ]
     },
     "metadata": {},
     "output_type": "display_data"
    },
    {
     "data": {
      "image/png": "[encoded data removed]",
      "text/plain": [
       "<Figure size 1200x600 with 1 Axes>"
      ]
     },
     "metadata": {},
     "output_type": "display_data"
    }
   ],
   "source": [
    "# Total runs by player\n",
    "runs = deliveries.groupby('batter')['batsman_runs'].sum().reset_index()\n",
    "runs.columns = ['player', 'runs']\n",
    "\n",
    "# Total wickets\n",
    "wickets = deliveries[deliveries['is_wicket'] == 1]\n",
    "wickets = wickets[wickets['dismissal_kind'] != 'run out']\n",
    "wicket_counts = wickets.groupby('bowler').size().reset_index(name='wickets')\n",
    "wicket_counts.columns = ['player', 'wickets']\n",
    "\n",
    "# Merge both\n",
    "all_rounders = pd.merge(runs, wicket_counts, on='player')\n",
    "all_rounders['total_contrib'] = all_rounders['runs'] + all_rounders['wickets'] * 20  # weight wickets higher\n",
    "all_rounders= all_rounders[all_rounders['wickets']> 20]  # Filter out players with no wickets\n",
    "\n",
    "top_all_rounders = all_rounders.sort_values('total_contrib', ascending=False).head(10)\n",
    "display(top_all_rounders)\n",
    "# Plotting the top all-rounders\n",
    "plt.figure(figsize=(12, 6))\n",
    "plt.barh(top_all_rounders['player'], top_all_rounders['total_contrib'], color='purple')\n",
    "plt.xlabel('Total Contribution (Runs + Wickets)')\n",
    "plt.title('Top All-Rounders in IPL (Runs + Wickets)', fontsize=16)\n",
    "plt.gca().invert_yaxis()\n",
    "plt.tight_layout()\n",
    "plt.show()\n"
   ]
  },
  {
   "attachments": {},
   "cell_type": "markdown",
   "metadata": {},
   "source": [
    "##### Explore Data related with Teams"
   ]
  },
  {
   "cell_type": "code",
   "execution_count": 28,
   "metadata": {},
   "outputs": [
    {
     "name": "stdout",
     "output_type": "stream",
     "text": [
      "Total number of unique IPL teams: 19\n",
      "Team names:\n",
      "Chennai Super Kings\n",
      "Deccan Chargers\n",
      "Delhi Capitals\n",
      "Delhi Daredevils\n",
      "Gujarat Lions\n",
      "Gujarat Titans\n",
      "Kings XI Punjab\n",
      "Kochi Tuskers Kerala\n",
      "Kolkata Knight Riders\n",
      "Lucknow Super Giants\n",
      "Mumbai Indians\n",
      "Pune Warriors\n",
      "Punjab Kings\n",
      "Rajasthan Royals\n",
      "Rising Pune Supergiant\n",
      "Rising Pune Supergiants\n",
      "Royal Challengers Bangalore\n",
      "Royal Challengers Bengaluru\n",
      "Sunrisers Hyderabad\n"
     ]
    }
   ],
   "source": [
    "#Number of unique teams and their names\n",
    "all_teams = pd.concat([matches['team1'], matches['team2'], matches['winner']]).dropna().unique()\n",
    "print(f\"Total number of unique IPL teams: {len(all_teams)}\")\n",
    "print(\"Team names:\")\n",
    "for team in sorted(all_teams):\n",
    "    print(team)"
   ]
  },
  {
   "cell_type": "code",
   "execution_count": 68,
   "metadata": {},
   "outputs": [
    {
     "name": "stdout",
     "output_type": "stream",
     "text": [
      "     year                 batting_team  total_runs\n",
      "6    2008             Rajasthan Royals        2601\n",
      "9    2009              Deccan Chargers        2408\n",
      "21   2010               Mumbai Indians        2738\n",
      "24   2011          Chennai Super Kings        2560\n",
      "34   2012          Chennai Super Kings        2831\n",
      "47   2013               Mumbai Indians        2975\n",
      "54   2014              Kings XI Punjab        2987\n",
      "64   2015               Mumbai Indians        2734\n",
      "74   2016  Royal Challengers Bangalore        2981\n",
      "80   2017               Mumbai Indians        2800\n",
      "84   2018          Chennai Super Kings        2809\n",
      "96   2019               Mumbai Indians        2670\n",
      "101  2020               Delhi Capitals        2780\n",
      "108  2021          Chennai Super Kings        2733\n",
      "123  2022             Rajasthan Royals        2943\n",
      "128  2023               Gujarat Titans        3054\n",
      "145  2024          Sunrisers Hyderabad        3052\n"
     ]
    },
    {
     "data": {
      "image/png": "[encoded data removed]",
      "text/plain": [
       "<Figure size 1200x600 with 1 Axes>"
      ]
     },
     "metadata": {},
     "output_type": "display_data"
    }
   ],
   "source": [
    "\n",
    "total_runs_yearly = deliveries_with_year.groupby(['year', 'batting_team'])['total_runs'].sum().reset_index()# Group by year and team, sum the total runs\n",
    "\n",
    "\n",
    "sorted_runs = total_runs_yearly.sort_values(['year', 'total_runs'], ascending=[True, False])\n",
    "\n",
    "\n",
    "top_team_each_year = sorted_runs.groupby('year').head(1)\n",
    "\n",
    "\n",
    "print(top_team_each_year)\n",
    "\n",
    "# Plotting\n",
    "plt.figure(figsize=(12, 6))\n",
    "sns.barplot(data=top_team_each_year, x='year', y='total_runs', hue='batting_team')\n",
    "\n",
    "plt.title('Top Scoring Team Each Year')\n",
    "plt.xlabel('Year')\n",
    "plt.ylabel('Total Runs')\n",
    "plt.xticks(rotation=45)\n",
    "plt.legend(title='Team', bbox_to_anchor=(1, 1), loc='upper left')\n",
    "plt.tight_layout()\n",
    "plt.grid(True)\n",
    "plt.show()"
   ]
  },
  {
   "cell_type": "code",
   "execution_count": 58,
   "metadata": {},
   "outputs": [
    {
     "name": "stdout",
     "output_type": "stream",
     "text": [
      "Maximum number of sixes hit by a team per season:\n",
      "\n",
      "    year                 batting_team  Sixes\n",
      "0   2008              Kings XI Punjab     95\n",
      "1   2009              Deccan Chargers     99\n",
      "2   2010          Chennai Super Kings     98\n",
      "3   2011  Royal Challengers Bangalore     94\n",
      "4   2012  Royal Challengers Bangalore    118\n",
      "5   2013               Mumbai Indians    117\n",
      "6   2014              Kings XI Punjab    127\n",
      "7   2015               Mumbai Indians    120\n",
      "8   2016  Royal Challengers Bangalore    142\n",
      "9   2017               Mumbai Indians    118\n",
      "10  2018          Chennai Super Kings    145\n",
      "11  2019        Kolkata Knight Riders    143\n",
      "12  2020               Mumbai Indians    137\n",
      "13  2021          Chennai Super Kings    115\n",
      "14  2022             Rajasthan Royals    137\n",
      "15  2023               Mumbai Indians    140\n",
      "16  2024          Sunrisers Hyderabad    178\n"
     ]
    },
    {
     "data": {
      "image/png": "[encoded data removed]",
      "text/plain": [
       "<Figure size 1200x600 with 1 Axes>"
      ]
     },
     "metadata": {},
     "output_type": "display_data"
    }
   ],
   "source": [
    "#Maximum number of 6's hit by a Team per season\n",
    "# Step 1: Filter only sixes\n",
    "sixes = deliveries_with_year[deliveries_with_year['batsman_runs'] == 6]\n",
    "\n",
    "# Step 2: Group by year and team\n",
    "sixes_per_team = sixes.groupby(['year', 'batting_team']).size().reset_index(name='Sixes')\n",
    "\n",
    "# Step 3: Get team with max sixes per season\n",
    "max_sixes_per_season = sixes_per_team.sort_values(['year', 'Sixes'], ascending=[True, False]) \\\n",
    "                                      .groupby('year').head(1).reset_index(drop=True)\n",
    "\n",
    "# Step 4: Print result\n",
    "print(\"Maximum number of sixes hit by a team per season:\\n\")\n",
    "print(max_sixes_per_season)\n",
    "\n",
    "plt.figure(figsize=(12, 6))\n",
    "sns.barplot(data=max_sixes_per_season, x='year', y='Sixes', hue='batting_team', dodge=False, palette='tab10')\n",
    "\n",
    "plt.title(\"Maximum Sixes Hit by a Team Per Season\", fontsize=16)\n",
    "plt.xlabel(\"Season\", fontsize=12)\n",
    "plt.ylabel(\"Number of Sixes\", fontsize=12)\n",
    "plt.xticks(rotation=45)\n",
    "plt.legend(title=\"Team\", bbox_to_anchor=(1.05, 1), loc='upper left')\n",
    "plt.tight_layout()\n",
    "plt.show()"
   ]
  },
  {
   "cell_type": "code",
   "execution_count": 59,
   "metadata": {},
   "outputs": [
    {
     "name": "stdout",
     "output_type": "stream",
     "text": [
      "Maximum number of fours hit by a team per season:\n",
      "\n",
      "    year                 batting_team  Fours\n",
      "0   2008             Rajasthan Royals    259\n",
      "1   2009          Chennai Super Kings    192\n",
      "2   2010               Mumbai Indians    261\n",
      "3   2011  Royal Challengers Bangalore    225\n",
      "4   2012             Rajasthan Royals    246\n",
      "5   2013             Rajasthan Royals    267\n",
      "6   2014              Kings XI Punjab    262\n",
      "7   2015          Chennai Super Kings    249\n",
      "8   2016                Gujarat Lions    242\n",
      "9   2017        Kolkata Knight Riders    228\n",
      "10  2018        Kolkata Knight Riders    253\n",
      "11  2019               Delhi Capitals    237\n",
      "12  2020               Delhi Capitals    237\n",
      "13  2021               Delhi Capitals    234\n",
      "14  2022             Rajasthan Royals    251\n",
      "15  2023               Mumbai Indians    265\n",
      "16  2024        Kolkata Knight Riders    238\n"
     ]
    },
    {
     "data": {
      "image/png": "[encoded data removed]",
      "text/plain": [
       "<Figure size 1200x600 with 1 Axes>"
      ]
     },
     "metadata": {},
     "output_type": "display_data"
    }
   ],
   "source": [
    "# Maximum number of 4's hit by a Team per season\n",
    "\n",
    "# Step 1: Filter only fours\n",
    "fours = deliveries_with_year[deliveries_with_year['batsman_runs'] == 4]\n",
    "\n",
    "# Step 2: Group by year and team\n",
    "fours_per_team = fours.groupby(['year', 'batting_team']).size().reset_index(name='Fours')\n",
    "\n",
    "# Step 3: Get team with max fours per season\n",
    "max_fours_per_season = fours_per_team.sort_values(['year', 'Fours'], ascending=[True, False]) \\\n",
    "                                      .groupby('year').head(1).reset_index(drop=True)\n",
    "\n",
    "# Step 4: Print result\n",
    "print(\"Maximum number of fours hit by a team per season:\\n\")\n",
    "print(max_fours_per_season)\n",
    "\n",
    "# Step 5: Plot\n",
    "plt.figure(figsize=(12, 6))\n",
    "sns.barplot(data=max_fours_per_season, x='year', y='Fours', hue='batting_team', dodge=False, palette='tab10')\n",
    "\n",
    "plt.title(\"Maximum Fours Hit by a Team Per Season\", fontsize=16)\n",
    "plt.xlabel(\"Season\", fontsize=12)\n",
    "plt.ylabel(\"Number of Fours\", fontsize=12)\n",
    "plt.xticks(rotation=45)\n",
    "plt.legend(title=\"Team\", bbox_to_anchor=(1.05, 1), loc='upper left')\n",
    "plt.tight_layout()\n",
    "plt.show()\n"
   ]
  },
  {
   "cell_type": "code",
   "execution_count": null,
   "metadata": {},
   "outputs": [],
   "source": []
  },
  {
   "cell_type": "code",
   "execution_count": 69,
   "metadata": {},
   "outputs": [
    {
     "name": "stdout",
     "output_type": "stream",
     "text": [
      "Team with most home wins after winning toss:\n",
      "Mumbai Indians                 33\n",
      "Chennai Super Kings            33\n",
      "Kolkata Knight Riders          29\n",
      "Royal Challengers Bangalore    26\n",
      "Rajasthan Royals               21\n",
      "Name: team1, dtype: int64\n"
     ]
    }
   ],
   "source": [
    "#Team winning most home matches after winning toss\n",
    "home_win_toss = matches[(matches['toss_winner'] == matches['team1']) &\n",
    "                        (matches['winner'] == matches['team1'])]\n",
    "home_wins = home_win_toss['team1'].value_counts()\n",
    "print(\"Team with most home wins after winning toss:\")\n",
    "print(home_wins.head(5))"
   ]
  },
  {
   "cell_type": "code",
   "execution_count": 74,
   "metadata": {},
   "outputs": [
    {
     "name": "stdout",
     "output_type": "stream",
     "text": [
      "Team with most home wins after losing toss:\n",
      "Chennai Super Kings            42\n",
      "Royal Challengers Bangalore    40\n",
      "Mumbai Indians                 37\n",
      "Kolkata Knight Riders          36\n",
      "Rajasthan Royals               34\n",
      "Name: team1, dtype: int64\n"
     ]
    }
   ],
   "source": [
    "#Team winning most home matches after losing toss\n",
    "home_lose_toss = matches[(matches['toss_winner'] != matches['team1']) &\n",
    "                         (matches['winner'] == matches['team1'])]\n",
    "home_wins_lost_toss = home_lose_toss['team1'].value_counts()\n",
    "print(\"Team with most home wins after losing toss:\")\n",
    "print(home_wins_lost_toss.head(5))"
   ]
  },
  {
   "cell_type": "code",
   "execution_count": 77,
   "metadata": {},
   "outputs": [
    {
     "name": "stdout",
     "output_type": "stream",
     "text": [
      "Team with most Away wins after winning toss:\n",
      "Mumbai Indians                 45\n",
      "Chennai Super Kings            42\n",
      "Kolkata Knight Riders          39\n",
      "Rajasthan Royals               39\n",
      "Royal Challengers Bangalore    31\n",
      "Name: team2, dtype: int64\n"
     ]
    }
   ],
   "source": [
    "#Team winning most Away matches after winning toss\n",
    "away_win_toss = matches[(matches['toss_winner'] == matches['team2']) &\n",
    "                        (matches['winner'] == matches['team2'])]\n",
    "away_wins = away_win_toss['team2'].value_counts()\n",
    "print(\"Team with most Away wins after winning toss:\")\n",
    "print(away_wins.head(5))"
   ]
  },
  {
   "cell_type": "code",
   "execution_count": 80,
   "metadata": {},
   "outputs": [
    {
     "name": "stdout",
     "output_type": "stream",
     "text": [
      "Team with most Away wins after loosing toss:\n",
      "Mumbai Indians           29\n",
      "Kolkata Knight Riders    27\n",
      "Kings XI Punjab          24\n",
      "Chennai Super Kings      21\n",
      "Sunrisers Hyderabad      19\n",
      "Name: team2, dtype: int64\n"
     ]
    }
   ],
   "source": [
    "#Team winning most Away matches after loosimg toss\n",
    "away_win_toss = matches[(matches['toss_winner'] != matches['team2']) &\n",
    "                        (matches['winner'] == matches['team2'])]\n",
    "away_wins = away_win_toss['team2'].value_counts()\n",
    "print(\"Team with most Away wins after loosing toss:\")\n",
    "print(away_wins.head(5))"
   ]
  },
  {
   "cell_type": "code",
   "execution_count": 71,
   "metadata": {},
   "outputs": [
    {
     "name": "stdout",
     "output_type": "stream",
     "text": [
      "Assumed Away (team2) Wins Each Year:\n",
      "     year                       winner  wins\n",
      "0    2008          Chennai Super Kings     5\n",
      "1    2008              Deccan Chargers     2\n",
      "2    2008             Delhi Daredevils     3\n",
      "3    2008              Kings XI Punjab     4\n",
      "4    2008        Kolkata Knight Riders     2\n",
      "..    ...                          ...   ...\n",
      "139  2024               Mumbai Indians     2\n",
      "140  2024                 Punjab Kings     5\n",
      "141  2024             Rajasthan Royals     7\n",
      "142  2024  Royal Challengers Bengaluru     3\n",
      "143  2024          Sunrisers Hyderabad     3\n",
      "\n",
      "[144 rows x 3 columns]\n"
     ]
    }
   ],
   "source": [
    "#Away match winners by year\n",
    "away_wins = matches[matches['team2'] == matches['winner']]\n",
    "away_wins_per_year = away_wins.groupby(['year', 'winner']).size().reset_index(name='wins')\n",
    "print(\"Assumed Away (team2) Wins Each Year:\")\n",
    "print(away_wins_per_year)"
   ]
  },
  {
   "cell_type": "code",
   "execution_count": 66,
   "metadata": {},
   "outputs": [
    {
     "data": {
      "text/html": [
       "<div>\n",
       "<style scoped>\n",
       "    .dataframe tbody tr th:only-of-type {\n",
       "        vertical-align: middle;\n",
       "    }\n",
       "\n",
       "    .dataframe tbody tr th {\n",
       "        vertical-align: top;\n",
       "    }\n",
       "\n",
       "    .dataframe thead th {\n",
       "        text-align: right;\n",
       "    }\n",
       "</style>\n",
       "<table border=\"1\" class=\"dataframe\">\n",
       "  <thead>\n",
       "    <tr style=\"text-align: right;\">\n",
       "      <th></th>\n",
       "      <th>venue</th>\n",
       "      <th>winner</th>\n",
       "      <th>wins</th>\n",
       "    </tr>\n",
       "  </thead>\n",
       "  <tbody>\n",
       "    <tr>\n",
       "      <th>88</th>\n",
       "      <td>Eden Gardens</td>\n",
       "      <td>Kolkata Knight Riders</td>\n",
       "      <td>45</td>\n",
       "    </tr>\n",
       "    <tr>\n",
       "      <th>360</th>\n",
       "      <td>Wankhede Stadium</td>\n",
       "      <td>Mumbai Indians</td>\n",
       "      <td>42</td>\n",
       "    </tr>\n",
       "    <tr>\n",
       "      <th>169</th>\n",
       "      <td>MA Chidambaram Stadium, Chepauk</td>\n",
       "      <td>Chennai Super Kings</td>\n",
       "      <td>33</td>\n",
       "    </tr>\n",
       "    <tr>\n",
       "      <th>300</th>\n",
       "      <td>Sawai Mansingh Stadium</td>\n",
       "      <td>Rajasthan Royals</td>\n",
       "      <td>32</td>\n",
       "    </tr>\n",
       "    <tr>\n",
       "      <th>152</th>\n",
       "      <td>M Chinnaswamy Stadium</td>\n",
       "      <td>Royal Challengers Bangalore</td>\n",
       "      <td>29</td>\n",
       "    </tr>\n",
       "    <tr>\n",
       "      <th>104</th>\n",
       "      <td>Feroz Shah Kotla</td>\n",
       "      <td>Delhi Daredevils</td>\n",
       "      <td>23</td>\n",
       "    </tr>\n",
       "    <tr>\n",
       "      <th>272</th>\n",
       "      <td>Rajiv Gandhi International Stadium, Uppal</td>\n",
       "      <td>Sunrisers Hyderabad</td>\n",
       "      <td>20</td>\n",
       "    </tr>\n",
       "    <tr>\n",
       "      <th>249</th>\n",
       "      <td>Punjab Cricket Association Stadium, Mohali</td>\n",
       "      <td>Kings XI Punjab</td>\n",
       "      <td>18</td>\n",
       "    </tr>\n",
       "    <tr>\n",
       "      <th>260</th>\n",
       "      <td>Rajiv Gandhi International Stadium</td>\n",
       "      <td>Sunrisers Hyderabad</td>\n",
       "      <td>10</td>\n",
       "    </tr>\n",
       "    <tr>\n",
       "      <th>372</th>\n",
       "      <td>Wankhede Stadium, Mumbai</td>\n",
       "      <td>Mumbai Indians</td>\n",
       "      <td>10</td>\n",
       "    </tr>\n",
       "  </tbody>\n",
       "</table>\n",
       "</div>"
      ],
      "text/plain": [
       "                                          venue                       winner  \\\n",
       "88                                 Eden Gardens        Kolkata Knight Riders   \n",
       "360                            Wankhede Stadium               Mumbai Indians   \n",
       "169             MA Chidambaram Stadium, Chepauk          Chennai Super Kings   \n",
       "300                      Sawai Mansingh Stadium             Rajasthan Royals   \n",
       "152                       M Chinnaswamy Stadium  Royal Challengers Bangalore   \n",
       "104                            Feroz Shah Kotla             Delhi Daredevils   \n",
       "272   Rajiv Gandhi International Stadium, Uppal          Sunrisers Hyderabad   \n",
       "249  Punjab Cricket Association Stadium, Mohali              Kings XI Punjab   \n",
       "260          Rajiv Gandhi International Stadium          Sunrisers Hyderabad   \n",
       "372                    Wankhede Stadium, Mumbai               Mumbai Indians   \n",
       "\n",
       "     wins  \n",
       "88     45  \n",
       "360    42  \n",
       "169    33  \n",
       "300    32  \n",
       "152    29  \n",
       "104    23  \n",
       "272    20  \n",
       "249    18  \n",
       "260    10  \n",
       "372    10  "
      ]
     },
     "metadata": {},
     "output_type": "display_data"
    }
   ],
   "source": [
    "# Count of wins per team per venue\n",
    "venue_performance = matches.groupby(['venue', 'winner']).size().reset_index(name='wins')\n",
    "venue_top = venue_performance.sort_values('wins', ascending=False).groupby('venue').head(1)\n",
    "\n",
    "display(venue_top.head(10))\n"
   ]
  },
  {
   "cell_type": "code",
   "execution_count": 76,
   "metadata": {},
   "outputs": [
    {
     "name": "stdout",
     "output_type": "stream",
     "text": [
      "Match Outcome Summary:\n",
      "Total Matches: 1095\n",
      "Close Games: 166\n",
      "Big Wins: 350\n"
     ]
    },
    {
     "data": {
      "image/png": "[encoded data removed]",
      "text/plain": [
       "<Figure size 500x500 with 1 Axes>"
      ]
     },
     "metadata": {},
     "output_type": "display_data"
    }
   ],
   "source": [
    "# Match Summary - number of close games and big wins\n",
    "close_games = matches[\n",
    "    ((matches['result'] == 'runs') & (matches['result_margin'] <= 10)) |\n",
    "    ((matches['result'] == 'wickets') & (matches['result_margin'] <= 3))\n",
    "]\n",
    "\n",
    "# 💥 Define big wins: by 50 runs or more, or by 7 wickets or more\n",
    "big_wins = matches[\n",
    "    ((matches['result'] == 'runs') & (matches['result_margin'] >= 50)) |\n",
    "    ((matches['result'] == 'wickets') & (matches['result_margin'] >= 7))\n",
    "]\n",
    "\n",
    "# 📊 Create a summary dictionary\n",
    "summary = {\n",
    "    'Total Matches': len(matches),\n",
    "    'Close Games': len(close_games),\n",
    "    'Big Wins': len(big_wins),\n",
    "    #'Close Game %': round(len(close_games) / len(matches) * 100, 2),\n",
    "    #'Big Win %': round(len(big_wins) / len(matches) * 100, 2)\n",
    "}\n",
    "\n",
    "# 🖨️ Print summary using standard print\n",
    "print(\"Match Outcome Summary:\")\n",
    "for key, value in summary.items():\n",
    "    print(f\"{key}: {value}\")\n",
    "# Plotting the summary\n",
    "plt.figure(figsize=(5, 5))\n",
    "plt.bar(summary.keys(), summary.values(), color=['blue', 'orange', 'green', 'red', 'purple'])\n",
    "plt.title('IPL Match Outcome Summary')\n",
    "plt.ylabel('Count / Percentage')\n",
    "plt.xticks(rotation=45)\n",
    "plt.tight_layout()\n",
    "plt.show()\n",
    "\n",
    "\n"
   ]
  },
  {
   "cell_type": "code",
   "execution_count": null,
   "metadata": {},
   "outputs": [],
   "source": []
  },
  {
   "attachments": {},
   "cell_type": "markdown",
   "metadata": {},
   "source": [
    "#### Data Quality"
   ]
  },
  {
   "cell_type": "code",
   "execution_count": 74,
   "metadata": {},
   "outputs": [
    {
     "data": {
      "text/plain": [
       "58"
      ]
     },
     "execution_count": 74,
     "metadata": {},
     "output_type": "execute_result"
    }
   ],
   "source": []
  },
  {
   "attachments": {},
   "cell_type": "markdown",
   "metadata": {},
   "source": [
    "#### Data Cleaning"
   ]
  },
  {
   "cell_type": "code",
   "execution_count": null,
   "metadata": {},
   "outputs": [],
   "source": []
  },
  {
   "attachments": {},
   "cell_type": "markdown",
   "metadata": {},
   "source": [
    "#### Data Preparation"
   ]
  },
  {
   "cell_type": "code",
   "execution_count": null,
   "metadata": {},
   "outputs": [],
   "source": []
  },
  {
   "attachments": {},
   "cell_type": "markdown",
   "metadata": {},
   "source": [
    "#### Data Preparation"
   ]
  },
  {
   "cell_type": "code",
   "execution_count": 115,
   "metadata": {},
   "outputs": [],
   "source": [
    "df_matches = pd.read_csv(\"matches.csv\")\n",
    "df_deliveries = pd.read_csv(\"deliveries.csv\")\n"
   ]
  },
  {
   "cell_type": "code",
   "execution_count": 116,
   "metadata": {},
   "outputs": [
    {
     "name": "stdout",
     "output_type": "stream",
     "text": [
      "(260920, 17)\n",
      "(1095, 20)\n"
     ]
    }
   ],
   "source": [
    "print(df_deliveries.shape)\n",
    "print(df_matches.shape)\n"
   ]
  },
  {
   "cell_type": "code",
   "execution_count": 117,
   "metadata": {},
   "outputs": [],
   "source": [
    "# Date to Year for better EDA\n",
    "df_matches['year'] = pd.to_datetime(matches['date']).dt.year"
   ]
  },
  {
   "cell_type": "code",
   "execution_count": 118,
   "metadata": {},
   "outputs": [],
   "source": [
    "df_deliveries['id'] = df_deliveries['match_id']\n",
    "df_del = df_deliveries.drop(columns='match_id')"
   ]
  },
  {
   "cell_type": "code",
   "execution_count": 119,
   "metadata": {},
   "outputs": [
    {
     "data": {
      "text/plain": [
       "dtype('int64')"
      ]
     },
     "execution_count": 119,
     "metadata": {},
     "output_type": "execute_result"
    }
   ],
   "source": [
    "(df_del.id.dtype)"
   ]
  },
  {
   "cell_type": "code",
   "execution_count": 120,
   "metadata": {},
   "outputs": [
    {
     "data": {
      "text/plain": [
       "dtype('int64')"
      ]
     },
     "execution_count": 120,
     "metadata": {},
     "output_type": "execute_result"
    }
   ],
   "source": [
    "df_matches.id.dtype"
   ]
  },
  {
   "cell_type": "code",
   "execution_count": 121,
   "metadata": {},
   "outputs": [
    {
     "data": {
      "text/plain": [
       "(260920, 37)"
      ]
     },
     "execution_count": 121,
     "metadata": {},
     "output_type": "execute_result"
    }
   ],
   "source": [
    "merged_df = pd.merge(df_del,df_matches, on='id',how='outer' )\n",
    "merged_df.shape"
   ]
  },
  {
   "cell_type": "code",
   "execution_count": 122,
   "metadata": {},
   "outputs": [
    {
     "name": "stdout",
     "output_type": "stream",
     "text": [
      "<class 'pandas.core.frame.DataFrame'>\n",
      "Int64Index: 260920 entries, 0 to 260919\n",
      "Data columns (total 37 columns):\n",
      " #   Column            Non-Null Count   Dtype  \n",
      "---  ------            --------------   -----  \n",
      " 0   inning            260920 non-null  int64  \n",
      " 1   batting_team      260920 non-null  object \n",
      " 2   bowling_team      260920 non-null  object \n",
      " 3   over              260920 non-null  int64  \n",
      " 4   ball              260920 non-null  int64  \n",
      " 5   batter            260920 non-null  object \n",
      " 6   bowler            260920 non-null  object \n",
      " 7   non_striker       260920 non-null  object \n",
      " 8   batsman_runs      260920 non-null  int64  \n",
      " 9   extra_runs        260920 non-null  int64  \n",
      " 10  total_runs        260920 non-null  int64  \n",
      " 11  extras_type       14125 non-null   object \n",
      " 12  is_wicket         260920 non-null  int64  \n",
      " 13  player_dismissed  12950 non-null   object \n",
      " 14  dismissal_kind    12950 non-null   object \n",
      " 15  fielder           9354 non-null    object \n",
      " 16  id                260920 non-null  int64  \n",
      " 17  season            260920 non-null  object \n",
      " 18  city              248523 non-null  object \n",
      " 19  date              260920 non-null  object \n",
      " 20  match_type        260920 non-null  object \n",
      " 21  player_of_match   260430 non-null  object \n",
      " 22  venue             260920 non-null  object \n",
      " 23  team1             260920 non-null  object \n",
      " 24  team2             260920 non-null  object \n",
      " 25  toss_winner       260920 non-null  object \n",
      " 26  toss_decision     260920 non-null  object \n",
      " 27  winner            260430 non-null  object \n",
      " 28  result            260920 non-null  object \n",
      " 29  result_margin     256796 non-null  float64\n",
      " 30  target_runs       260611 non-null  float64\n",
      " 31  target_overs      260611 non-null  float64\n",
      " 32  super_over        260920 non-null  object \n",
      " 33  method            3646 non-null    object \n",
      " 34  umpire1           260920 non-null  object \n",
      " 35  umpire2           260920 non-null  object \n",
      " 36  year              260920 non-null  int64  \n",
      "dtypes: float64(3), int64(9), object(25)\n",
      "memory usage: 75.6+ MB\n"
     ]
    }
   ],
   "source": [
    "merged_df.info()"
   ]
  },
  {
   "cell_type": "code",
   "execution_count": 123,
   "metadata": {},
   "outputs": [],
   "source": [
    "# merged_df.to_csv(\"merged_matches&devlieries.csv\")"
   ]
  },
  {
   "attachments": {},
   "cell_type": "markdown",
   "metadata": {},
   "source": [
    "#### Data Quality"
   ]
  },
  {
   "cell_type": "code",
   "execution_count": 170,
   "metadata": {},
   "outputs": [],
   "source": [
    "df = merged_df.copy()"
   ]
  },
  {
   "cell_type": "code",
   "execution_count": 171,
   "metadata": {},
   "outputs": [
    {
     "data": {
      "text/html": [
       "<div>\n",
       "<style scoped>\n",
       "    .dataframe tbody tr th:only-of-type {\n",
       "        vertical-align: middle;\n",
       "    }\n",
       "\n",
       "    .dataframe tbody tr th {\n",
       "        vertical-align: top;\n",
       "    }\n",
       "\n",
       "    .dataframe thead th {\n",
       "        text-align: right;\n",
       "    }\n",
       "</style>\n",
       "<table border=\"1\" class=\"dataframe\">\n",
       "  <thead>\n",
       "    <tr style=\"text-align: right;\">\n",
       "      <th></th>\n",
       "      <th>Column Type</th>\n",
       "      <th>Count</th>\n",
       "      <th>Columns</th>\n",
       "    </tr>\n",
       "  </thead>\n",
       "  <tbody>\n",
       "    <tr>\n",
       "      <th>0</th>\n",
       "      <td>Numeric</td>\n",
       "      <td>12</td>\n",
       "      <td>inning, over, ball, batsman_runs, extra_runs, ...</td>\n",
       "    </tr>\n",
       "    <tr>\n",
       "      <th>1</th>\n",
       "      <td>Categorical</td>\n",
       "      <td>25</td>\n",
       "      <td>batting_team, bowling_team, batter, bowler, no...</td>\n",
       "    </tr>\n",
       "    <tr>\n",
       "      <th>2</th>\n",
       "      <td>Other</td>\n",
       "      <td>0</td>\n",
       "      <td>None</td>\n",
       "    </tr>\n",
       "  </tbody>\n",
       "</table>\n",
       "</div>"
      ],
      "text/plain": [
       "   Column Type  Count                                            Columns\n",
       "0      Numeric     12  inning, over, ball, batsman_runs, extra_runs, ...\n",
       "1  Categorical     25  batting_team, bowling_team, batter, bowler, no...\n",
       "2        Other      0                                               None"
      ]
     },
     "metadata": {},
     "output_type": "display_data"
    }
   ],
   "source": [
    "numeric_cols = df.select_dtypes(include=['int64', 'float64']).columns.tolist()\n",
    "categorical_cols = df.select_dtypes(include=['object', 'category']).columns.tolist()\n",
    "other_cols = df.select_dtypes(exclude=['int64', 'float64', 'object', 'category']).columns.tolist()\n",
    "\n",
    "summary_data = [\n",
    "    [\"Numeric\", len(numeric_cols), \", \".join(numeric_cols) if numeric_cols else \"None\"],\n",
    "    [\"Categorical\", len(categorical_cols), \", \".join(categorical_cols) if categorical_cols else \"None\"],\n",
    "    [\"Other\", len(other_cols), \", \".join(other_cols) if other_cols else \"None\"]\n",
    "]\n",
    "\n",
    "column_summary = pd.DataFrame(summary_data, columns=[\"Column Type\", \"Count\", \"Columns\"])\n",
    "display(column_summary)"
   ]
  },
  {
   "cell_type": "code",
   "execution_count": 172,
   "metadata": {},
   "outputs": [
    {
     "name": "stdout",
     "output_type": "stream",
     "text": [
      "(260920, 37)\n"
     ]
    },
    {
     "data": {
      "text/plain": [
       "method              257274\n",
       "fielder             251566\n",
       "dismissal_kind      247970\n",
       "player_dismissed    247970\n",
       "extras_type         246795\n",
       "city                 12397\n",
       "result_margin         4124\n",
       "player_of_match        490\n",
       "winner                 490\n",
       "target_runs            309\n",
       "target_overs           309\n",
       "result                   0\n",
       "toss_decision            0\n",
       "super_over               0\n",
       "umpire1                  0\n",
       "umpire2                  0\n",
       "toss_winner              0\n",
       "team2                    0\n",
       "team1                    0\n",
       "venue                    0\n",
       "inning                   0\n",
       "match_type               0\n",
       "date                     0\n",
       "batting_team             0\n",
       "season                   0\n",
       "id                       0\n",
       "is_wicket                0\n",
       "total_runs               0\n",
       "extra_runs               0\n",
       "batsman_runs             0\n",
       "non_striker              0\n",
       "bowler                   0\n",
       "batter                   0\n",
       "ball                     0\n",
       "over                     0\n",
       "bowling_team             0\n",
       "year                     0\n",
       "dtype: int64"
      ]
     },
     "execution_count": 172,
     "metadata": {},
     "output_type": "execute_result"
    }
   ],
   "source": [
    "# Check for Missing Values\n",
    "print(df.shape)\n",
    "df.isnull().sum().sort_values(ascending=False)"
   ]
  },
  {
   "cell_type": "code",
   "execution_count": 173,
   "metadata": {},
   "outputs": [
    {
     "data": {
      "text/plain": [
       "array([nan, 'D/L'], dtype=object)"
      ]
     },
     "execution_count": 173,
     "metadata": {},
     "output_type": "execute_result"
    }
   ],
   "source": [
    "df.method.unique()"
   ]
  },
  {
   "cell_type": "code",
   "execution_count": 174,
   "metadata": {},
   "outputs": [],
   "source": [
    "# dropping method because we are not taking matches with no results due to some unseen circumstances \n",
    "# drop date as we are using year\n",
    "\n",
    "df.drop(columns=['method','date','fielder','result_margin'], inplace=True)"
   ]
  },
  {
   "cell_type": "code",
   "execution_count": 175,
   "metadata": {},
   "outputs": [
    {
     "data": {
      "text/plain": [
       "(260920, 33)"
      ]
     },
     "execution_count": 175,
     "metadata": {},
     "output_type": "execute_result"
    }
   ],
   "source": [
    "df.shape"
   ]
  },
  {
   "cell_type": "code",
   "execution_count": 176,
   "metadata": {},
   "outputs": [
    {
     "data": {
      "text/plain": [
       "NaN                      247970\n",
       "caught                     8063\n",
       "bowled                     2212\n",
       "run out                    1114\n",
       "lbw                         800\n",
       "caught and bowled           367\n",
       "stumped                     358\n",
       "retired hurt                 15\n",
       "hit wicket                   15\n",
       "obstructing the field         3\n",
       "retired out                   3\n",
       "Name: dismissal_kind, dtype: int64"
      ]
     },
     "execution_count": 176,
     "metadata": {},
     "output_type": "execute_result"
    }
   ],
   "source": [
    "df['dismissal_kind'].value_counts(dropna=False)"
   ]
  },
  {
   "cell_type": "code",
   "execution_count": 177,
   "metadata": {},
   "outputs": [
    {
     "data": {
      "text/plain": [
       "NaN            247970\n",
       "RG Sharma         223\n",
       "V Kohli           207\n",
       "S Dhawan          193\n",
       "KD Karthik        184\n",
       "                ...  \n",
       "BJ Haddin           1\n",
       "SS Cottrell         1\n",
       "JE Taylor           1\n",
       "NL McCullum         1\n",
       "Sunny Gupta         1\n",
       "Name: player_dismissed, Length: 630, dtype: int64"
      ]
     },
     "execution_count": 177,
     "metadata": {},
     "output_type": "execute_result"
    }
   ],
   "source": [
    "df['player_dismissed'].value_counts(dropna=False)"
   ]
  },
  {
   "cell_type": "code",
   "execution_count": 178,
   "metadata": {},
   "outputs": [
    {
     "data": {
      "text/plain": [
       "NaN        246795\n",
       "wides        8380\n",
       "legbyes      4001\n",
       "noballs      1069\n",
       "byes          673\n",
       "penalty         2\n",
       "Name: extras_type, dtype: int64"
      ]
     },
     "execution_count": 178,
     "metadata": {},
     "output_type": "execute_result"
    }
   ],
   "source": [
    "df['extras_type'].value_counts(dropna=False)"
   ]
  },
  {
   "cell_type": "code",
   "execution_count": 179,
   "metadata": {},
   "outputs": [
    {
     "data": {
      "text/plain": [
       "array(['Kolkata Knight Riders', 'Royal Challengers Bangalore',\n",
       "       'Chennai Super Kings', 'Kings XI Punjab', 'Rajasthan Royals',\n",
       "       'Delhi Daredevils', 'Mumbai Indians', 'Deccan Chargers',\n",
       "       'Kochi Tuskers Kerala', 'Pune Warriors', 'Sunrisers Hyderabad',\n",
       "       'Rising Pune Supergiants', 'Gujarat Lions',\n",
       "       'Rising Pune Supergiant', 'Delhi Capitals', 'Punjab Kings',\n",
       "       'Lucknow Super Giants', 'Gujarat Titans',\n",
       "       'Royal Challengers Bengaluru'], dtype=object)"
      ]
     },
     "execution_count": 179,
     "metadata": {},
     "output_type": "execute_result"
    }
   ],
   "source": [
    "df['batting_team'].unique()"
   ]
  },
  {
   "cell_type": "code",
   "execution_count": 180,
   "metadata": {},
   "outputs": [
    {
     "data": {
      "text/plain": [
       "array(['Royal Challengers Bangalore', 'Kings XI Punjab',\n",
       "       'Delhi Daredevils', 'Mumbai Indians', 'Kolkata Knight Riders',\n",
       "       'Rajasthan Royals', 'Deccan Chargers', 'Chennai Super Kings',\n",
       "       'Kochi Tuskers Kerala', 'Pune Warriors', 'Sunrisers Hyderabad',\n",
       "       'Gujarat Lions', 'Rising Pune Supergiants',\n",
       "       'Rising Pune Supergiant', 'Delhi Capitals', 'Punjab Kings',\n",
       "       'Lucknow Super Giants', 'Gujarat Titans',\n",
       "       'Royal Challengers Bengaluru'], dtype=object)"
      ]
     },
     "execution_count": 180,
     "metadata": {},
     "output_type": "execute_result"
    }
   ],
   "source": [
    "df['team1'].unique()\n"
   ]
  },
  {
   "cell_type": "code",
   "execution_count": 181,
   "metadata": {},
   "outputs": [
    {
     "data": {
      "text/plain": [
       "Mumbai            41742\n",
       "Kolkata           21846\n",
       "Delhi             21269\n",
       "Chennai           20706\n",
       "Hyderabad         18355\n",
       "Bangalore         14907\n",
       "Chandigarh        14476\n",
       "Jaipur            13520\n",
       "NaN               12397\n",
       "Pune              12239\n",
       "Abu Dhabi          8799\n",
       "Ahmedabad          8553\n",
       "Bengaluru          6917\n",
       "Durban             3643\n",
       "Visakhapatnam      3537\n",
       "Lucknow            3283\n",
       "Dubai              3149\n",
       "Dharamsala         3141\n",
       "Centurion          2866\n",
       "Rajkot             2381\n",
       "Sharjah            2355\n",
       "Navi Mumbai        2188\n",
       "Indore             1965\n",
       "Johannesburg       1940\n",
       "Cuttack            1695\n",
       "Port Elizabeth     1677\n",
       "Ranchi             1671\n",
       "Cape Town          1539\n",
       "Raipur             1431\n",
       "Mohali             1235\n",
       "Kochi              1155\n",
       "Kanpur              921\n",
       "Nagpur              742\n",
       "Guwahati            739\n",
       "Kimberley           726\n",
       "East London         715\n",
       "Bloemfontein        500\n",
       "Name: city, dtype: int64"
      ]
     },
     "execution_count": 181,
     "metadata": {},
     "output_type": "execute_result"
    }
   ],
   "source": [
    "df['city'].value_counts(dropna=False)"
   ]
  },
  {
   "cell_type": "code",
   "execution_count": 182,
   "metadata": {},
   "outputs": [
    {
     "name": "stdout",
     "output_type": "stream",
     "text": [
      "51\n",
      "['Sharjah Cricket Stadium' 'Dubai International Cricket Stadium']\n"
     ]
    }
   ],
   "source": [
    "df_city_nan = df[df['city'].isna()]\n",
    "print(df_city_nan.id.nunique())\n",
    "print(df_city_nan.venue.unique())"
   ]
  },
  {
   "cell_type": "code",
   "execution_count": 183,
   "metadata": {},
   "outputs": [],
   "source": [
    "# Replacing nan values with values that make sense for our dataset\n",
    "df['dismissal_kind'].fillna('Not_Dismissed', inplace=True)\n",
    "df['player_dismissed'].fillna('Not_Dismissed', inplace=True)\n",
    "df['extras_type'].fillna('No_extras', inplace=True)\n",
    "df['city'].fillna('UAE', inplace=True)"
   ]
  },
  {
   "cell_type": "code",
   "execution_count": 187,
   "metadata": {},
   "outputs": [],
   "source": [
    "df_quality = df.dropna(subset=['player_of_match', 'winner', 'target_runs', 'target_overs']).reset_index(drop=True)\n"
   ]
  },
  {
   "cell_type": "code",
   "execution_count": 188,
   "metadata": {},
   "outputs": [
    {
     "name": "stdout",
     "output_type": "stream",
     "text": [
      "<class 'pandas.core.frame.DataFrame'>\n",
      "RangeIndex: 260430 entries, 0 to 260429\n",
      "Data columns (total 33 columns):\n",
      " #   Column            Non-Null Count   Dtype  \n",
      "---  ------            --------------   -----  \n",
      " 0   inning            260430 non-null  int64  \n",
      " 1   batting_team      260430 non-null  object \n",
      " 2   bowling_team      260430 non-null  object \n",
      " 3   over              260430 non-null  int64  \n",
      " 4   ball              260430 non-null  int64  \n",
      " 5   batter            260430 non-null  object \n",
      " 6   bowler            260430 non-null  object \n",
      " 7   non_striker       260430 non-null  object \n",
      " 8   batsman_runs      260430 non-null  int64  \n",
      " 9   extra_runs        260430 non-null  int64  \n",
      " 10  total_runs        260430 non-null  int64  \n",
      " 11  extras_type       260430 non-null  object \n",
      " 12  is_wicket         260430 non-null  int64  \n",
      " 13  player_dismissed  260430 non-null  object \n",
      " 14  dismissal_kind    260430 non-null  object \n",
      " 15  id                260430 non-null  int64  \n",
      " 16  season            260430 non-null  object \n",
      " 17  city              260430 non-null  object \n",
      " 18  match_type        260430 non-null  object \n",
      " 19  player_of_match   260430 non-null  object \n",
      " 20  venue             260430 non-null  object \n",
      " 21  team1             260430 non-null  object \n",
      " 22  team2             260430 non-null  object \n",
      " 23  toss_winner       260430 non-null  object \n",
      " 24  toss_decision     260430 non-null  object \n",
      " 25  winner            260430 non-null  object \n",
      " 26  result            260430 non-null  object \n",
      " 27  target_runs       260430 non-null  float64\n",
      " 28  target_overs      260430 non-null  float64\n",
      " 29  super_over        260430 non-null  object \n",
      " 30  umpire1           260430 non-null  object \n",
      " 31  umpire2           260430 non-null  object \n",
      " 32  year              260430 non-null  int64  \n",
      "dtypes: float64(2), int64(9), object(22)\n",
      "memory usage: 65.6+ MB\n"
     ]
    }
   ],
   "source": [
    "df_quality.info()"
   ]
  },
  {
   "attachments": {},
   "cell_type": "markdown",
   "metadata": {},
   "source": [
    "#### Data Cleaning"
   ]
  },
  {
   "cell_type": "code",
   "execution_count": 189,
   "metadata": {},
   "outputs": [],
   "source": [
    "raw_clean_df = df_quality.copy()"
   ]
  },
  {
   "cell_type": "code",
   "execution_count": 194,
   "metadata": {},
   "outputs": [
    {
     "data": {
      "text/plain": [
       "Index(['inning', 'batting_team', 'bowling_team', 'over', 'ball', 'batter',\n",
       "       'bowler', 'non_striker', 'batsman_runs', 'extra_runs', 'total_runs',\n",
       "       'extras_type', 'is_wicket', 'player_dismissed', 'dismissal_kind', 'id',\n",
       "       'season', 'city', 'match_type', 'player_of_match', 'venue', 'team1',\n",
       "       'team2', 'toss_winner', 'toss_decision', 'winner', 'result',\n",
       "       'target_runs', 'target_overs', 'super_over', 'umpire1', 'umpire2',\n",
       "       'year'],\n",
       "      dtype='object')"
      ]
     },
     "execution_count": 194,
     "metadata": {},
     "output_type": "execute_result"
    }
   ],
   "source": [
    "raw_clean_df.columns"
   ]
  },
  {
   "cell_type": "code",
   "execution_count": 190,
   "metadata": {},
   "outputs": [],
   "source": [
    "teams_map = {'Royal Challengers Bangalore':'Bangalore'\n",
    "              , 'Kings XI Punjab':'Punjab'\n",
    "              , 'Delhi Daredevils':'Delhi'\n",
    "              , 'Mumbai Indians':'Mumbai'\n",
    "              , 'Kolkata Knight Riders':'Kolkata'\n",
    "              , 'Rajasthan Royals':'Rajasthan'\n",
    "              , 'Deccan Chargers':'Hyderabad'\n",
    "              , 'Chennai Super Kings':'Chennai'\n",
    "              , 'Kochi Tuskers Kerala':'Kerala'\n",
    "              , 'Pune Warriors':'Pune'\n",
    "              , 'Sunrisers Hyderabad':'Hyderabad'\n",
    "              , 'Gujarat Lions':'Gujarat'\n",
    "              , 'Rising Pune Supergiants':'Pune'\n",
    "              , 'Rising Pune Supergiant':'Pune'\n",
    "              , 'Delhi Capitals':'Delhi'\n",
    "              , 'Punjab Kings':'Punjab'\n",
    "              , 'Lucknow Super Giants':'Lucknow'\n",
    "              , 'Gujarat Titans':'Gujarat'\n",
    "              , 'Royal Challengers Bengaluru':'Bangalore'\n",
    "}\n",
    "for col in (raw_clean_df.columns):\n",
    "    raw_clean_df[col] = raw_clean_df[col].apply(lambda x: teams_map.get(x, x))"
   ]
  },
  {
   "cell_type": "code",
   "execution_count": 191,
   "metadata": {},
   "outputs": [],
   "source": [
    "venue_mapping = {\n",
    "    'Eden Gardens, Kolkata': 'Eden Gardens',\n",
    "    'MA Chidambaram Stadium, Chepauk': 'MA Chidambaram Stadium',\n",
    "    'MA Chidambaram Stadium, Chepauk, Chennai': 'MA Chidambaram Stadium',\n",
    "    'Wankhede Stadium, Mumbai': 'Wankhede Stadium',\n",
    "    'Punjab Cricket Association IS Bindra Stadium, Mohali': 'Punjab Cricket Association Stadium',\n",
    "    'Punjab Cricket Association IS Bindra Stadium': 'Punjab Cricket Association Stadium',\n",
    "    'Punjab Cricket Association IS Bindra Stadium, Mohali, Chandigarh': 'Punjab Cricket Association Stadium',\n",
    "    'Rajiv Gandhi International Stadium, Uppal': 'Rajiv Gandhi International Stadium',\n",
    "    'Rajiv Gandhi International Stadium, Uppal, Hyderabad': 'Rajiv Gandhi International Stadium',\n",
    "    'Arun Jaitley Stadium, Delhi': 'Arun Jaitley Stadium',\n",
    "    'Dr DY Patil Sports Academy, Mumbai': 'Dr DY Patil Sports Academy',\n",
    "    'Maharashtra Cricket Association Stadium, Pune': 'Maharashtra Cricket Association Stadium',\n",
    "    'M Chinnaswamy Stadium, Bengaluru': 'M Chinnaswamy Stadium',\n",
    "    'Dr. Y.S. Rajasekhara Reddy ACA-VDCA Cricket Stadium, Visakhapatnam': 'Dr. Y.S. Rajasekhara Reddy ACA-VDCA Cricket Stadium',\n",
    "    'Sawai Mansingh Stadium, Jaipur': 'Sawai Mansingh Stadium',\n",
    "    'Himachal Pradesh Cricket Association Stadium, Dharamsala': 'Himachal Pradesh Cricket Association Stadium'\n",
    "}\n",
    "for col in (raw_clean_df.columns):\n",
    "    raw_clean_df[col] = raw_clean_df[col].apply(lambda x: venue_mapping.get(x, x))"
   ]
  },
  {
   "cell_type": "code",
   "execution_count": 199,
   "metadata": {},
   "outputs": [
    {
     "name": "stdout",
     "output_type": "stream",
     "text": [
      "Unique values in Team before mapping: 19\n",
      "Unique values in Team after mapping: 12\n",
      "The reduction in unique Team values indicates that different categories have been properly mapped to unified values.\n",
      "\n"
     ]
    },
    {
     "name": "stdout",
     "output_type": "stream",
     "text": [
      "Unique values in Venue before mapping: 58\n",
      "Unique values in Venue after mapping: 43\n",
      "The decrease in unique Venue values confirms that varying category names have been correctly consolidated.\n"
     ]
    }
   ],
   "source": [
    "print(f\"Unique values in Team before mapping: {df_quality.team1.nunique()}\")\n",
    "print(f\"Unique values in Team after mapping: {raw_clean_df.team1.nunique()}\")\n",
    "print(\"The reduction in unique Team values indicates that different categories have been properly mapped to unified values.\\n\")\n",
    "\n",
    "print(f\"Unique values in Venue before mapping: {df_quality.venue.nunique()}\")\n",
    "print(f\"Unique values in Venue after mapping: {raw_clean_df.venue.nunique()}\")\n",
    "print(\"The decrease in unique Venue values confirms that varying category names have been correctly consolidated.\")\n"
   ]
  },
  {
   "cell_type": "code",
   "execution_count": 202,
   "metadata": {},
   "outputs": [],
   "source": [
    "final_cleaned_df = raw_clean_df.copy()"
   ]
  },
  {
   "cell_type": "code",
   "execution_count": 206,
   "metadata": {},
   "outputs": [
    {
     "data": {
      "text/plain": [
       "(260920, 37)"
      ]
     },
     "execution_count": 206,
     "metadata": {},
     "output_type": "execute_result"
    }
   ],
   "source": [
    "merged_df.shape"
   ]
  },
  {
   "cell_type": "code",
   "execution_count": 203,
   "metadata": {},
   "outputs": [
    {
     "data": {
      "text/plain": [
       "(260430, 33)"
      ]
     },
     "execution_count": 203,
     "metadata": {},
     "output_type": "execute_result"
    }
   ],
   "source": [
    "final_cleaned_df.shape"
   ]
  },
  {
   "cell_type": "code",
   "execution_count": 205,
   "metadata": {},
   "outputs": [
    {
     "name": "stdout",
     "output_type": "stream",
     "text": [
      "<class 'pandas.core.frame.DataFrame'>\n",
      "RangeIndex: 260430 entries, 0 to 260429\n",
      "Data columns (total 33 columns):\n",
      " #   Column            Non-Null Count   Dtype  \n",
      "---  ------            --------------   -----  \n",
      " 0   inning            260430 non-null  int64  \n",
      " 1   batting_team      260430 non-null  object \n",
      " 2   bowling_team      260430 non-null  object \n",
      " 3   over              260430 non-null  int64  \n",
      " 4   ball              260430 non-null  int64  \n",
      " 5   batter            260430 non-null  object \n",
      " 6   bowler            260430 non-null  object \n",
      " 7   non_striker       260430 non-null  object \n",
      " 8   batsman_runs      260430 non-null  int64  \n",
      " 9   extra_runs        260430 non-null  int64  \n",
      " 10  total_runs        260430 non-null  int64  \n",
      " 11  extras_type       260430 non-null  object \n",
      " 12  is_wicket         260430 non-null  int64  \n",
      " 13  player_dismissed  260430 non-null  object \n",
      " 14  dismissal_kind    260430 non-null  object \n",
      " 15  id                260430 non-null  int64  \n",
      " 16  season            260430 non-null  object \n",
      " 17  city              260430 non-null  object \n",
      " 18  match_type        260430 non-null  object \n",
      " 19  player_of_match   260430 non-null  object \n",
      " 20  venue             260430 non-null  object \n",
      " 21  team1             260430 non-null  object \n",
      " 22  team2             260430 non-null  object \n",
      " 23  toss_winner       260430 non-null  object \n",
      " 24  toss_decision     260430 non-null  object \n",
      " 25  winner            260430 non-null  object \n",
      " 26  result            260430 non-null  object \n",
      " 27  target_runs       260430 non-null  float64\n",
      " 28  target_overs      260430 non-null  float64\n",
      " 29  super_over        260430 non-null  object \n",
      " 30  umpire1           260430 non-null  object \n",
      " 31  umpire2           260430 non-null  object \n",
      " 32  year              260430 non-null  int64  \n",
      "dtypes: float64(2), int64(9), object(22)\n",
      "memory usage: 65.6+ MB\n"
     ]
    }
   ],
   "source": [
    "final_cleaned_df.info()"
   ]
  },
  {
   "attachments": {},
   "cell_type": "markdown",
   "metadata": {},
   "source": [
    "### Gold layer \n",
    "#### Final dataset for training respective ML model approaches for team members"
   ]
  },
  {
   "cell_type": "code",
   "execution_count": 207,
   "metadata": {},
   "outputs": [],
   "source": [
    "gold_df = final_cleaned_df.copy()"
   ]
  },
  {
   "cell_type": "code",
   "execution_count": 208,
   "metadata": {},
   "outputs": [],
   "source": [
    "gold_df.to_csv('gold_df.csv')"
   ]
  },
  {
   "cell_type": "code",
   "execution_count": null,
   "metadata": {},
   "outputs": [],
   "source": []
  }
 ],
 "metadata": {
  "kernelspec": {
   "display_name": ".venv",
   "language": "python",
   "name": "python3"
  },
  "language_info": {
   "codemirror_mode": {
    "name": "ipython",
    "version": 3
   },
   "file_extension": ".py",
   "mimetype": "text/x-python",
   "name": "python",
   "nbconvert_exporter": "python",
   "pygments_lexer": "ipython3",
   "version": "3.13.0"
  }
 },
 "nbformat": 4,
 "nbformat_minor": 2
}
