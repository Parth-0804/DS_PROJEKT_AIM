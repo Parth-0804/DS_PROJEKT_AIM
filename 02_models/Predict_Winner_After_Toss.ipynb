{
 "cells": [
  {
   "cell_type": "markdown",
   "id": "02a3e6ed",
   "metadata": {},
   "source": [
    "# Predict Winner After Toss\n",
    "\n",
    "This notebook includes toss decision and toss winner for predicting match outcome."
   ]
  },
  {
   "cell_type": "code",
   "execution_count": null,
   "id": "a6f4d2dd",
   "metadata": {},
   "outputs": [],
   "source": [
    "import pandas as pd\n",
    "from sklearn.model_selection import train_test_split\n",
    "from sklearn.ensemble import RandomForestClassifier\n",
    "from sklearn.preprocessing import LabelEncoder\n",
    "from sklearn.metrics import classification_report, accuracy_score\n",
    "import matplotlib.pyplot as plt\n",
    "import seaborn as sns\n",
    "\n",
    "# Load dataset\n",
    "df = pd.read_csv('/mnt/data/gold_df.csv')\n",
    "# Drop rows with missing winner info\n",
    "df = df.dropna(subset=['winner'])"
   ]
  },
  {
   "cell_type": "markdown",
   "id": "875a4d1a",
   "metadata": {},
   "source": [
    "### Feature Selection"
   ]
  },
  {
   "cell_type": "code",
   "execution_count": null,
   "id": "2f115385",
   "metadata": {},
   "outputs": [],
   "source": [
    "features = ['team1', 'team2', 'venue', 'city', 'season', 'toss_winner', 'toss_decision']\n",
    "target = 'winner'\n",
    "df_model = df[features + [target]].dropna()\n",
    "\n",
    "# Label Encoding\n",
    "label_encoders = {}\n",
    "for col in features + [target]:\n",
    "    le = LabelEncoder()\n",
    "    df_model[col] = le.fit_transform(df_model[col])\n",
    "    label_encoders[col] = le\n",
    "\n",
    "X = df_model[features]\n",
    "y = df_model[target]\n",
    "X_train, X_test, y_train, y_test = train_test_split(X, y, test_size=0.3, random_state=42)"
   ]
  },
  {
   "cell_type": "markdown",
   "id": "e72cf407",
   "metadata": {},
   "source": [
    "### Train Random Forest Model"
   ]
  },
  {
   "cell_type": "code",
   "execution_count": null,
   "id": "75da102d",
   "metadata": {},
   "outputs": [],
   "source": [
    "rf = RandomForestClassifier(n_estimators=100, random_state=42)\n",
    "rf.fit(X_train, y_train)\n",
    "y_pred = rf.predict(X_test)\n",
    "\n",
    "print('Accuracy:', accuracy_score(y_test, y_pred))\n",
    "print('\\nClassification Report:\\n', classification_report(y_test, y_pred))"
   ]
  },
  {
   "cell_type": "markdown",
   "id": "03f275cd",
   "metadata": {},
   "source": [
    "### Feature Importance Visualization"
   ]
  },
  {
   "cell_type": "code",
   "execution_count": null,
   "id": "60bf8c66",
   "metadata": {},
   "outputs": [],
   "source": [
    "importances = rf.feature_importances_\n",
    "feat_imp = pd.Series(importances, index=X.columns)\n",
    "plt.figure(figsize=(10, 5))\n",
    "sns.barplot(x=feat_imp.values, y=feat_imp.index)\n",
    "plt.title('Feature Importances')\n",
    "plt.tight_layout()\n",
    "plt.show()"
   ]
  }
 ],
 "metadata": {},
 "nbformat": 4,
 "nbformat_minor": 5
}
