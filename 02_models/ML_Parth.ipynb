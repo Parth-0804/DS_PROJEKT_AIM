{
 "cells": [
  {
   "cell_type": "markdown",
   "id": "75c8261a",
   "metadata": {},
   "source": [
    "# Machine Learning Algorithm XGBClassifier (Parth Ravaliya)"
   ]
  },
  {
   "cell_type": "code",
   "execution_count": null,
   "id": "390c2dc1",
   "metadata": {},
   "outputs": [],
   "source": [
    "\n",
    "ml_parth = gold_df.copy()\n",
    "ml_parth.shape\n",
    "## Preparing dataset\n",
    "### 1. Aggregate by innings\n",
    "def aggregate_by_innings(df):\n",
    "  \"\"\"\n",
    "    Aggregates the cricket dataset by innings for each match.\n",
    "\n",
    "    Args:\n",
    "        df (pd.DataFrame): The dataframe containing match and delivery data.\n",
    "\n",
    "    Returns:\n",
    "        pd.DataFrame: A dataframe with aggregated statistics for each match,\n",
    "                      separated by inning.\n",
    "    \"\"\"\n",
    "  inning1_df = df[df['inning'] == 1].groupby('id').agg(\n",
    "      inning1_runs=('total_runs', 'sum'),\n",
    "      inning1_wickets=('is_wicket', 'sum'),\n",
    "      inning1_balls=('ball', 'count')\n",
    "  ).reset_index()\n",
    "\n",
    "  inning2_df = df[df['inning'] == 2].groupby('id').agg(\n",
    "      inning2_runs=('total_runs', 'sum'),\n",
    "      inning2_wickets=('is_wicket', 'sum'),\n",
    "      inning2_balls=('ball', 'count')\n",
    "  ).reset_index()\n",
    "\n",
    "  # Merge the innings data\n",
    "  aggregated_df = pd.merge(\n",
    "      inning1_df,\n",
    "      inning2_df,\n",
    "      on='id',\n",
    "      how='left'\n",
    "  )\n",
    "\n",
    "  # Handle matches that might have ended in the first inning (rare in T20, but possible)\n",
    "  aggregated_df.fillna(0, inplace=True)\n",
    "\n",
    "  # Add match-level information (assuming matches_df is available or can be derived)\n",
    "  # This part assumes you have a df_matches available or can create it\n",
    "  # For this example, let's merge with the cleaned match details from final_cleaned_df\n",
    "  match_details = df[['id', 'season', 'city', 'venue', 'toss_winner', 'toss_decision',\n",
    "                                    'winner', 'result', 'result_margin', 'umpire1', 'umpire2', 'player_of_match']].drop_duplicates(subset=['id'])\n",
    "\n",
    "  aggregated_df = pd.merge(\n",
    "      aggregated_df,\n",
    "      match_details,\n",
    "      on='id',\n",
    "      how='left'\n",
    "  )\n",
    "\n",
    "\n",
    "  return aggregated_df\n",
    "aggregated_match_data_by_innings = aggregate_by_innings(ml_parth)\n",
    "print(aggregated_match_data_by_innings.head())\n",
    "print(aggregated_match_data_by_innings.shape)\n",
    "aggregated_match_data_by_innings.info()\n",
    "\n",
    "aggregated_match_data_by_innings.to_csv('aggregated_match_data_by_innings.csv')\n"
   ]
  }
 ],
 "metadata": {
  "language_info": {
   "name": "python"
  }
 },
 "nbformat": 4,
 "nbformat_minor": 5
}
