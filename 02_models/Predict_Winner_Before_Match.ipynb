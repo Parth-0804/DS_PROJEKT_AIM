{
 "cells": [
  {
   "cell_type": "markdown",
   "id": "d848fd32",
   "metadata": {},
   "source": [
    "# Predict Winner Before Match Begins\n",
    "\n",
    "This notebook trains a Random Forest model using only features available before the match begins."
   ]
  },
  {
   "cell_type": "code",
   "execution_count": 1,
   "id": "680c3399",
   "metadata": {},
   "outputs": [],
   "source": [
    "import pandas as pd\n",
    "from sklearn.model_selection import train_test_split\n",
    "from sklearn.ensemble import RandomForestClassifier\n",
    "from sklearn.preprocessing import LabelEncoder\n",
    "from sklearn.metrics import classification_report, accuracy_score\n",
    "import matplotlib.pyplot as plt\n",
    "import seaborn as sns\n",
    "\n",
    "# Load dataset\n",
    "df = pd.read_csv('gold_df.csv')\n",
    "# Drop rows with missing winner info\n",
    "df = df.dropna(subset=['winner'])"
   ]
  },
  {
   "cell_type": "markdown",
   "id": "b81daa36",
   "metadata": {},
   "source": [
    "### Feature Selection"
   ]
  },
  {
   "cell_type": "code",
   "execution_count": 2,
   "id": "346182f7",
   "metadata": {},
   "outputs": [],
   "source": [
    "features = ['team1', 'team2', 'venue', 'city', 'season']\n",
    "target = 'winner'\n",
    "df_model = df[features + [target]].dropna()\n",
    "\n",
    "# Label Encoding\n",
    "label_encoders = {}\n",
    "for col in features + [target]:\n",
    "    le = LabelEncoder()\n",
    "    df_model[col] = le.fit_transform(df_model[col])\n",
    "    label_encoders[col] = le\n",
    "\n",
    "X = df_model[features]\n",
    "y = df_model[target]\n",
    "X_train, X_test, y_train, y_test = train_test_split(X, y, test_size=0.3, random_state=42)"
   ]
  },
  {
   "cell_type": "markdown",
   "id": "cb7689bc",
   "metadata": {},
   "source": [
    "### Train Random Forest Model"
   ]
  },
  {
   "cell_type": "code",
   "execution_count": 3,
   "id": "8220afd6",
   "metadata": {},
   "outputs": [
    {
     "name": "stdout",
     "output_type": "stream",
     "text": [
      "Accuracy: 0.9942274955522278\n",
      "\n",
      "Classification Report:\n",
      "               precision    recall  f1-score   support\n",
      "\n",
      "           0       0.98      0.99      0.99      8791\n",
      "           1       1.00      0.99      1.00     10014\n",
      "           2       0.99      1.00      1.00      8187\n",
      "           3       1.00      1.00      1.00      2924\n",
      "           4       1.00      0.98      0.99      8437\n",
      "           5       1.00      1.00      1.00       376\n",
      "           6       1.00      1.00      1.00      9271\n",
      "           7       1.00      1.00      1.00      1842\n",
      "           8       0.99      1.00      0.99     10347\n",
      "           9       1.00      1.00      1.00      1893\n",
      "          10       0.99      0.99      0.99      8033\n",
      "          11       1.00      0.99      1.00      8014\n",
      "\n",
      "    accuracy                           0.99     78129\n",
      "   macro avg       1.00      1.00      1.00     78129\n",
      "weighted avg       0.99      0.99      0.99     78129\n",
      "\n"
     ]
    }
   ],
   "source": [
    "rf = RandomForestClassifier(n_estimators=100, random_state=42)\n",
    "rf.fit(X_train, y_train)\n",
    "y_pred = rf.predict(X_test)\n",
    "\n",
    "print('Accuracy:', accuracy_score(y_test, y_pred))\n",
    "print('\\nClassification Report:\\n', classification_report(y_test, y_pred))"
   ]
  },
  {
   "cell_type": "markdown",
   "id": "e88d09eb",
   "metadata": {},
   "source": [
    "### Feature Importance Visualization"
   ]
  },
  {
   "cell_type": "code",
   "execution_count": 4,
   "id": "a310f626",
   "metadata": {},
   "outputs": [
    {
     "data": {
      "image/png": "[encoded data removed]",
      "text/plain": [
       "<Figure size 1000x500 with 1 Axes>"
      ]
     },
     "metadata": {},
     "output_type": "display_data"
    }
   ],
   "source": [
    "importances = rf.feature_importances_\n",
    "feat_imp = pd.Series(importances, index=X.columns)\n",
    "plt.figure(figsize=(10, 5))\n",
    "sns.barplot(x=feat_imp.values, y=feat_imp.index)\n",
    "plt.title('Feature Importances')\n",
    "plt.tight_layout()\n",
    "plt.show()"
   ]
  }
 ],
 "metadata": {
  "kernelspec": {
   "display_name": "base",
   "language": "python",
   "name": "python3"
  },
  "language_info": {
   "codemirror_mode": {
    "name": "ipython",
    "version": 3
   },
   "file_extension": ".py",
   "mimetype": "text/x-python",
   "name": "python",
   "nbconvert_exporter": "python",
   "pygments_lexer": "ipython3",
   "version": "3.12.2"
  }
 },
 "nbformat": 4,
 "nbformat_minor": 5
}
